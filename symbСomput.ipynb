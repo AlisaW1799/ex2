{
  "nbformat": 4,
  "nbformat_minor": 0,
  "metadata": {
    "colab": {
      "name": "Untitled0.ipynb",
      "provenance": [],
      "collapsed_sections": [],
      "authorship_tag": "ABX9TyNAMOBL9b9aK5vA1pPD7WVS",
      "include_colab_link": true
    },
    "kernelspec": {
      "name": "python3",
      "display_name": "Python 3"
    }
  },
  "cells": [
    {
      "cell_type": "markdown",
      "metadata": {
        "id": "view-in-github",
        "colab_type": "text"
      },
      "source": [
        "<a href=\"https://colab.research.google.com/github/CharlieW1799/ex2/blob/main/symb%D0%A1omput.ipynb\" target=\"_parent\"><img src=\"https://colab.research.google.com/assets/colab-badge.svg\" alt=\"Open In Colab\"/></a>"
      ]
    },
    {
      "cell_type": "code",
      "metadata": {
        "id": "oXnmoFxO9r5x"
      },
      "source": [
        "from IPython.display import Latex, display, Math\r\n",
        "class Rational:\r\n",
        "  def __init__(self, z, n = 1):\r\n",
        "    self.z = z\r\n",
        "    self.n = n\r\n",
        "    self.normalize()\r\n",
        "\r\n",
        "  def __str__(self):\r\n",
        "    if (self.n != 1):\r\n",
        "      return str(self.z) + \"/\" + str(self.n)\r\n",
        "    else:\r\n",
        "      return str(self.z)\r\n",
        "\r\n",
        "  #убирает знак минус из знаменателя\r\n",
        "  def normalize(self):\r\n",
        "    if (self.n < 0):\r\n",
        "      self.z = -self.z\r\n",
        "      self.n = -self.n\r\n",
        "      \r\n",
        "    #сокращает числитель и знаменатель\r\n",
        "    z, n = abs(self.z), self.n\r\n",
        "    while z % n != 0:\r\n",
        "       z, n = n, z % n\r\n",
        "    self.z //= n\r\n",
        "    self.n //= n\r\n",
        "\r\n",
        "  def __add__(self, other):\r\n",
        "    numerator = self.z * other.n + other.z * self.n\r\n",
        "    if (numerator != 0):\r\n",
        "      return Rational(numerator, self.n * other.n)\r\n",
        "    else:\r\n",
        "      return 0\r\n",
        "\r\n",
        "  def __sub__(self, other):\r\n",
        "    numerator = self.z * other.n - other.z * self.n\r\n",
        "    if (numerator != 0):\r\n",
        "      return Rational(numerator, self.n * other.n)\r\n",
        "    else:\r\n",
        "      return 0\r\n",
        "\r\n",
        "  def __mul__(self, other):\r\n",
        "    return Rational(self.z * other.z, self.n * other.n)\r\n",
        "\r\n",
        "  def __truediv__(self, other):\r\n",
        "    return Rational(self.z * other.n, other.z * self.n)\r\n",
        "\r\n",
        "  def __pow__(self, other):\r\n",
        "    z, n = self.z, self.n\r\n",
        "    for i in range(other-1):\r\n",
        "      z *= self.z\r\n",
        "      n *= self.n\r\n",
        "    return Rational(z, n)\r\n",
        "    \r\n",
        "  def __radd__(self, other):\r\n",
        "    return self.__add__(other)\r\n",
        "\r\n",
        "  def __rsub__(self, other):\r\n",
        "    self.z = -self.z\r\n",
        "    return self + other\r\n",
        "\r\n",
        "  def __rmul__(self, other):\r\n",
        "    return self.__mul__(other)\r\n",
        "\r\n",
        "  def _rtruediv__(self, other):\r\n",
        "    self.z, self.n = self.n, self.z\r\n",
        "    return self.__truediv__(other)\r\n",
        "\r\n",
        "  def __neg__(self):\r\n",
        "    return Rational(-self.z, self.n)\r\n",
        "\r\n",
        "  def __abs__(self):\r\n",
        "    return Rational(abs(self.z), abs(self.n))\r\n",
        "\r\n",
        "  def __lt__(self, other):\r\n",
        "    return self.z * other.n < self.n * other.z\r\n",
        "\r\n",
        "  def __le__(self, other):\r\n",
        "    return self.z * other.n <= self.n * other.z\r\n",
        "\r\n",
        "  def __gt__(self, other):\r\n",
        "    return self.z * other.n > self.n * other.z\r\n",
        "\r\n",
        "  def __ge__(self, other):\r\n",
        "    return self.z * other.n >= self.n * other.z\r\n",
        "\r\n",
        "  def __eq__(self, other):\r\n",
        "    return self.z * other.n == self.n * other.z\r\n",
        "\r\n",
        "  def __ne__(self, other):\r\n",
        "    return self.z * other.n != self.n * other.z\r\n",
        "\r\n",
        "  def evalf(self, n = 15):\r\n",
        "    z = abs(self.z)\r\n",
        "    s = str(z // self.n) + \".\"\r\n",
        "    z = z % self.n * 10\r\n",
        "    while z != 0 and len(s) <= n + 1:\r\n",
        "      s += str(z // self.n)\r\n",
        "    return s\r\n",
        "\r\n",
        "  def intNratio(self):\r\n",
        "    return (int(self.z / self.n), Rational(abs(self.z) % self.n, self.n))\r\n",
        "\r\n",
        "  def toLatex(self, mixed = False):\r\n",
        "    if mixed:\r\n",
        "      i, m = self.intNratio()\r\n",
        "      if i != 0:\r\n",
        "        return \"$\" + str(i) + \"\\dfrac{\" + str(m.z) + \"}{\" + str(m.n) + \"}\" + \"$\"   \r\n",
        "    return \"$\" + \"\\dfrac{\" + str(self.z) + \"}{\" + str(self.n) + \"}\" + \"$\"\r\n",
        "\r\n",
        "  def show(self, mixed = False):\r\n",
        "    display(Math(self.toLatex(mixed)))\r\n"
      ],
      "execution_count": 90,
      "outputs": []
    },
    {
      "cell_type": "code",
      "metadata": {
        "colab": {
          "base_uri": "https://localhost:8080/",
          "height": 674
        },
        "id": "oKLeogMtH0ZP",
        "cellView": "code",
        "outputId": "17ed7930-d87d-4f00-b5dc-ea10bfab1711"
      },
      "source": [
        "#1-4 задания\n",
        "a = Rational(31, -3)\n",
        "p = Rational(-12, 7)\n",
        "l = Rational(-5, 2)\n",
        "\n",
        "print()\n",
        "print(\"a =\", a)\n",
        "print(\"p =\", p)\n",
        "print()\n",
        "\n",
        "#5-7\n",
        "print(\"a + p =\", a + p)\n",
        "print(\"p + a =\", p + a)\n",
        "print(\"a - p =\", a - p)\n",
        "print(\"p - a =\", p - a)\n",
        "print(\"a * p =\", a * p)\n",
        "print(\"p * a =\", p * a)\n",
        "print(\"a / p =\", a / p)\n",
        "print(\"p / a =\", p / a)\n",
        "print()\n",
        "\n",
        "print(\"a^2 =\", a**2)\n",
        "print(\"p^5 =\", p**5)\n",
        "print()\n",
        "\n",
        "#8-11\n",
        "print(\"Унарный минус:\", p, -p, \"\\n\")\n",
        "\n",
        "print(\"|p| =\", abs(p))\n",
        "\n",
        "print(\"a < p -\", a < p)\n",
        "print(\"a <= p -\", a<=p)\n",
        "print(\"a > p -\", a>p)\n",
        "print(\"a >= p -\", a>=p)\n",
        "print(\"a = p -\", a==p)\n",
        "print(\"a != p -\", a!=p)\n",
        "print()\n",
        "\n",
        "#12\n",
        "print(a.evalf())\n",
        "print(a.evalf(5))\n",
        "\n",
        "#13\n",
        "i, a = a.intNratio()\n",
        "print(\"\\nСмешанная дробь a =\", i, a)\n",
        "print()\n",
        "\n",
        "#14\n",
        "print(l.toLatex())\n",
        "print(l.toLatex(True))\n",
        "\n",
        "#15\n",
        "print(l.show())\n",
        "print(l.show(True))"
      ],
      "execution_count": 93,
      "outputs": [
        {
          "output_type": "stream",
          "text": [
            "\n",
            "a = -31/3\n",
            "p = -12/7\n",
            "\n",
            "a + p = -253/21\n",
            "p + a = -253/21\n",
            "a - p = -181/21\n",
            "p - a = 181/21\n",
            "a * p = 124/7\n",
            "p * a = 124/7\n",
            "a / p = 217/36\n",
            "p / a = 36/217\n",
            "\n",
            "a^2 = 961/9\n",
            "p^5 = -248832/16807\n",
            "\n",
            "Унарный минус: -12/7 12/7 \n",
            "\n",
            "|p| = 12/7\n",
            "a < p - True\n",
            "a <= p - True\n",
            "a > p - False\n",
            "a >= p - False\n",
            "a = p - False\n",
            "a != p - True\n",
            "\n",
            "10.33333333333333\n",
            "10.3333\n",
            "\n",
            "Смешанная дробь a = -10 1/3\n",
            "\n",
            "$\\dfrac{-5}{2}$\n",
            "$-2\\dfrac{1}{2}$\n"
          ],
          "name": "stdout"
        },
        {
          "output_type": "display_data",
          "data": {
            "text/latex": "$$\\dfrac{-5}{2}$$",
            "text/plain": [
              "<IPython.core.display.Math object>"
            ]
          },
          "metadata": {
            "tags": []
          }
        },
        {
          "output_type": "stream",
          "text": [
            "None\n"
          ],
          "name": "stdout"
        },
        {
          "output_type": "display_data",
          "data": {
            "text/latex": "$$-2\\dfrac{1}{2}$$",
            "text/plain": [
              "<IPython.core.display.Math object>"
            ]
          },
          "metadata": {
            "tags": []
          }
        },
        {
          "output_type": "stream",
          "text": [
            "None\n"
          ],
          "name": "stdout"
        }
      ]
    }
  ]
}