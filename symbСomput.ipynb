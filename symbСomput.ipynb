{
  "nbformat": 4,
  "nbformat_minor": 0,
  "metadata": {
    "colab": {
      "name": "Untitled0.ipynb",
      "provenance": [],
      "collapsed_sections": [],
      "authorship_tag": "ABX9TyNjTZIVlHHuVuNdozIMuoTV",
      "include_colab_link": true
    },
    "kernelspec": {
      "name": "python3",
      "display_name": "Python 3"
    }
  },
  "cells": [
    {
      "cell_type": "markdown",
      "metadata": {
        "id": "view-in-github",
        "colab_type": "text"
      },
      "source": [
        "<a href=\"https://colab.research.google.com/github/CharlieW1799/ex2/blob/main/symb%D0%A1omput.ipynb\" target=\"_parent\"><img src=\"https://colab.research.google.com/assets/colab-badge.svg\" alt=\"Open In Colab\"/></a>"
      ]
    },
    {
      "cell_type": "code",
      "metadata": {
        "id": "oXnmoFxO9r5x"
      },
      "source": [
        "class Rational:\r\n",
        "  def __init__(self, z, n = 1):\r\n",
        "    self.z = z\r\n",
        "    self.n = n\r\n",
        "    self.normalize()\r\n",
        "\r\n",
        "  #преобразование числа в строку\r\n",
        "  def __str__(self):\r\n",
        "    if (self.n != 1):\r\n",
        "      return str(self.z) + \"/\" + str(self.n)\r\n",
        "    else:\r\n",
        "      return str(self.z)\r\n",
        "\r\n",
        "  #убирает знак минус из знаменателя\r\n",
        "  def normalize(self):\r\n",
        "    if (self.n < 0):\r\n",
        "      self.z = -self.z\r\n",
        "      self.n = -self.n\r\n",
        "      \r\n",
        "    #сокращает числитель и знаменатель\r\n",
        "    z, n = abs(self.z), self.n\r\n",
        "    while z % n != 0:\r\n",
        "       z, n = n, z % n\r\n",
        "    self.z //= n\r\n",
        "    self.n //= n\r\n",
        "\r\n",
        "  def __add__(self, other):\r\n",
        "    numerator = self.z * other.n + other.z * self.n\r\n",
        "    if (numerator != 0):\r\n",
        "      return Rational(numerator, self.n * other.n)\r\n",
        "    else:\r\n",
        "      return 0\r\n",
        "\r\n",
        "  def __sub__(self, other):\r\n",
        "    numerator = self.z * other.n - other.z * self.n\r\n",
        "    if (numerator != 0):\r\n",
        "      return Rational(numerator, self.n * other.n)\r\n",
        "    else:\r\n",
        "      return 0\r\n",
        "\r\n",
        "  def __mul__(self, other):\r\n",
        "    return Rational(self.z * other.z, self.n * other.n)\r\n",
        "\r\n",
        "  def __truediv__(self, other):\r\n",
        "    return Rational(self.z * other.n, other.z * self.n)\r\n"
      ],
      "execution_count": 33,
      "outputs": []
    },
    {
      "cell_type": "code",
      "metadata": {
        "colab": {
          "base_uri": "https://localhost:8080/"
        },
        "id": "oKLeogMtH0ZP",
        "outputId": "0ed54700-27e1-4820-bd69-0c9221bed4c7"
      },
      "source": [
        "a = Rational(1, -3)\r\n",
        "p = Rational(1, 14)\r\n",
        "\r\n",
        "print(a)\r\n",
        "print(p)\r\n",
        "print()\r\n",
        "\r\n",
        "print(a+p)\r\n",
        "print(a-p)\r\n",
        "print(a*p)\r\n",
        "print(a/p)"
      ],
      "execution_count": 35,
      "outputs": [
        {
          "output_type": "stream",
          "text": [
            "-1/3\n",
            "1/14\n",
            "\n",
            "-11/42\n",
            "-17/42\n",
            "-1/42\n",
            "-14/3\n"
          ],
          "name": "stdout"
        }
      ]
    }
  ]
}