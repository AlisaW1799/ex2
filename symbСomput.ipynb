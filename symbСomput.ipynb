{
  "nbformat": 4,
  "nbformat_minor": 0,
  "metadata": {
    "colab": {
      "name": "Untitled0.ipynb",
      "provenance": [],
      "collapsed_sections": [],
      "authorship_tag": "ABX9TyO1AyauwYSsno7OCbLeRyeG",
      "include_colab_link": true
    },
    "kernelspec": {
      "name": "python3",
      "display_name": "Python 3"
    }
  },
  "cells": [
    {
      "cell_type": "markdown",
      "metadata": {
        "id": "view-in-github",
        "colab_type": "text"
      },
      "source": [
        "<a href=\"https://colab.research.google.com/github/CharlieW1799/ex2/blob/main/symb%D0%A1omput.ipynb\" target=\"_parent\"><img src=\"https://colab.research.google.com/assets/colab-badge.svg\" alt=\"Open In Colab\"/></a>"
      ]
    },
    {
      "cell_type": "code",
      "metadata": {
        "id": "oXnmoFxO9r5x"
      },
      "source": [
        "import pandas\r\n",
        "class Rational:\r\n",
        "  def __init__(self, z, n = 1):\r\n",
        "    self.z = z\r\n",
        "    self.n = n\r\n",
        "    self.normalize()\r\n",
        "    if (self.z//self.n!=0):\r\n",
        "      #print(\"Смешанная дробь:\")\r\n",
        "      self.intNratio()\r\n",
        "\r\n",
        "  #преобразование числа в строку\r\n",
        "  def __str__(self):\r\n",
        "    if (self.n != 1):\r\n",
        "      return str(self.z) + \"/\" + str(self.n)\r\n",
        "    else:\r\n",
        "      return str(self.z)\r\n",
        "\r\n",
        "  #убирает знак минус из знаменателя\r\n",
        "  def normalize(self):\r\n",
        "    if (self.n < 0):\r\n",
        "      self.z = -self.z\r\n",
        "      self.n = -self.n\r\n",
        "      \r\n",
        "    #сокращает числитель и знаменатель\r\n",
        "    z, n = abs(self.z), self.n\r\n",
        "    while z % n != 0:\r\n",
        "       z, n = n, z % n\r\n",
        "    self.z //= n\r\n",
        "    self.n //= n\r\n",
        "\r\n",
        "  def __add__(self, other):\r\n",
        "    numerator = self.z * other.n + other.z * self.n\r\n",
        "    if (numerator != 0):\r\n",
        "      return Rational(numerator, self.n * other.n)\r\n",
        "    else:\r\n",
        "      return 0\r\n",
        "\r\n",
        "  def __sub__(self, other):\r\n",
        "    numerator = self.z * other.n - other.z * self.n\r\n",
        "    if (numerator != 0):\r\n",
        "      return Rational(numerator, self.n * other.n)\r\n",
        "    else:\r\n",
        "      return 0\r\n",
        "\r\n",
        "  def __mul__(self, other):\r\n",
        "    return Rational(self.z * other.z, self.n * other.n)\r\n",
        "\r\n",
        "  def __truediv__(self, other):\r\n",
        "    return Rational(self.z * other.n, other.z * self.n)\r\n",
        "\r\n",
        "  def __pow__(self, other):\r\n",
        "    z, n = self.z, self.n\r\n",
        "    for i in range(0,other - 1):\r\n",
        "      self.z *= z\r\n",
        "      self.n *= n\r\n",
        "    return Rational(self.z, self.n)\r\n",
        "    \r\n",
        "########################\r\n",
        "  def __radd__(self, other):\r\n",
        "    numerator = self.z * other.n + other.z * self.n\r\n",
        "    if (numerator != 0):\r\n",
        "      return Rational(numerator, self.n * other.n)\r\n",
        "    else:\r\n",
        "      return 0\r\n",
        "\r\n",
        "  def __rsub__(self, other):\r\n",
        "    numerator = self.z * other.n + other.z * self.n\r\n",
        "    if (numerator != 0):\r\n",
        "      return Rational(numerator, self.n * other.n)\r\n",
        "    else:\r\n",
        "      return 0\r\n",
        "  ########################\r\n",
        "\r\n",
        "  def __lt__(self, other):\r\n",
        "    return self.z * other.n < self.n * other.z\r\n",
        "\r\n",
        "  def __le__(self, other):\r\n",
        "    return self.z * other.n <= self.n * other.z\r\n",
        "\r\n",
        "  def __gt__(self, other):\r\n",
        "    return self.z * other.n > self.n * other.z\r\n",
        "\r\n",
        "  def __ge__(self, other):\r\n",
        "    return self.z * other.n >= self.n * other.z\r\n",
        "\r\n",
        "  def __eq__(self, other):\r\n",
        "    return self.z * other.n == self.n * other.z\r\n",
        "\r\n",
        "  def __ne__(self, other):\r\n",
        "    return self.z * other.n != self.n * other.z\r\n",
        "\r\n",
        "  def intNratio(self):\r\n",
        "    inty = self.z//self.n\r\n",
        "    print (inty, Rational(self.z-inty*self.n,self.n))\r\n",
        "\r\n",
        "  \r\n"
      ],
      "execution_count": 79,
      "outputs": []
    },
    {
      "cell_type": "code",
      "metadata": {
        "colab": {
          "base_uri": "https://localhost:8080/",
          "height": 397
        },
        "id": "oKLeogMtH0ZP",
        "outputId": "223d48d0-9091-46fb-b982-bd8561586f7d"
      },
      "source": [
        "a = Rational(31, 3)\r\n",
        "p = Rational(12, 7)\r\n",
        "\r\n",
        "print()\r\n",
        "print(\"a =\", a)\r\n",
        "print(\"p =\", p)\r\n",
        "print()\r\n",
        "\r\n",
        "print(\"a + p =\", a + p)\r\n",
        "print(\"p + a =\", p + a)\r\n",
        "print(\"a - p =\", a-p)\r\n",
        "print(\"a - p =\", a-p)\r\n",
        "#print(a*p)\r\n",
        "#print(a/p)\r\n",
        "print()\r\n",
        "\r\n",
        "print(a**2)\r\n",
        "print(p**5)\r\n",
        "print()\r\n",
        "\r\n",
        "print(a<p)\r\n",
        "print(a<=p)\r\n",
        "print(a>p)\r\n",
        "print(a>=p)\r\n",
        "print(a==p)\r\n",
        "print(a!=p)\r\n"
      ],
      "execution_count": 80,
      "outputs": [
        {
          "output_type": "stream",
          "text": [
            "10 1/3\n",
            "1 5/7\n",
            "\n",
            "a = 31/3\n",
            "p = 12/7\n",
            "\n",
            "12 1/21\n",
            "a + p = 253/21\n",
            "12 1/21\n",
            "p + a = 253/21\n"
          ],
          "name": "stdout"
        },
        {
          "output_type": "error",
          "ename": "TypeError",
          "evalue": "ignored",
          "traceback": [
            "\u001b[0;31m---------------------------------------------------------------------------\u001b[0m",
            "\u001b[0;31mTypeError\u001b[0m                                 Traceback (most recent call last)",
            "\u001b[0;32m<ipython-input-80-80cc11d42269>\u001b[0m in \u001b[0;36m<module>\u001b[0;34m()\u001b[0m\n\u001b[1;32m      9\u001b[0m \u001b[0mprint\u001b[0m\u001b[0;34m(\u001b[0m\u001b[0;34m\"a + p =\"\u001b[0m\u001b[0;34m,\u001b[0m \u001b[0ma\u001b[0m \u001b[0;34m+\u001b[0m \u001b[0mp\u001b[0m\u001b[0;34m)\u001b[0m\u001b[0;34m\u001b[0m\u001b[0;34m\u001b[0m\u001b[0m\n\u001b[1;32m     10\u001b[0m \u001b[0mprint\u001b[0m\u001b[0;34m(\u001b[0m\u001b[0;34m\"p + a =\"\u001b[0m\u001b[0;34m,\u001b[0m \u001b[0mp\u001b[0m \u001b[0;34m+\u001b[0m \u001b[0ma\u001b[0m\u001b[0;34m)\u001b[0m\u001b[0;34m\u001b[0m\u001b[0;34m\u001b[0m\u001b[0m\n\u001b[0;32m---> 11\u001b[0;31m \u001b[0mprint\u001b[0m\u001b[0;34m(\u001b[0m\u001b[0;34m\"a - p =\"\u001b[0m\u001b[0;34m,\u001b[0m \u001b[0ma\u001b[0m\u001b[0;34m-\u001b[0m\u001b[0mp\u001b[0m\u001b[0;34m)\u001b[0m\u001b[0;34m\u001b[0m\u001b[0;34m\u001b[0m\u001b[0m\n\u001b[0m\u001b[1;32m     12\u001b[0m \u001b[0mprint\u001b[0m\u001b[0;34m(\u001b[0m\u001b[0;34m\"a - p =\"\u001b[0m\u001b[0;34m,\u001b[0m \u001b[0ma\u001b[0m\u001b[0;34m-\u001b[0m\u001b[0mp\u001b[0m\u001b[0;34m)\u001b[0m\u001b[0;34m\u001b[0m\u001b[0;34m\u001b[0m\u001b[0m\n\u001b[1;32m     13\u001b[0m \u001b[0;31m#print(a*p)\u001b[0m\u001b[0;34m\u001b[0m\u001b[0;34m\u001b[0m\u001b[0;34m\u001b[0m\u001b[0m\n",
            "\u001b[0;31mTypeError\u001b[0m: unsupported operand type(s) for -: 'Rational' and 'Rational'"
          ]
        }
      ]
    }
  ]
}