{
  "nbformat": 4,
  "nbformat_minor": 0,
  "metadata": {
    "colab": {
      "name": "Untitled0.ipynb",
      "provenance": [],
      "collapsed_sections": [],
      "authorship_tag": "ABX9TyOdEffF/y6D7v4fKqEioBny",
      "include_colab_link": true
    },
    "kernelspec": {
      "name": "python3",
      "display_name": "Python 3"
    }
  },
  "cells": [
    {
      "cell_type": "markdown",
      "metadata": {
        "id": "view-in-github",
        "colab_type": "text"
      },
      "source": [
        "<a href=\"https://colab.research.google.com/github/CharlieW1799/ex2/blob/main/symb%D0%A1omput.ipynb\" target=\"_parent\"><img src=\"https://colab.research.google.com/assets/colab-badge.svg\" alt=\"Open In Colab\"/></a>"
      ]
    },
    {
      "cell_type": "code",
      "metadata": {
        "id": "oXnmoFxO9r5x"
      },
      "source": [
        "class Rational:\r\n",
        "  def __init__(self, z, n = 1):\r\n",
        "    self.z = z\r\n",
        "    self.n = n\r\n",
        "    self.normalize()\r\n",
        "\r\n",
        "  #преобразование числа в строку\r\n",
        "  def __str__(self):\r\n",
        "    if (self.n != 1):\r\n",
        "      return str(self.z) + \"/\" + str(self.n)\r\n",
        "    else:\r\n",
        "      return str(self.z)\r\n",
        "\r\n",
        "  #убирает знак минус из знаменателя\r\n",
        "  def normalize(self):\r\n",
        "    if (self.n < 0):\r\n",
        "      self.z = -self.z\r\n",
        "      self.n = -self.n\r\n",
        "      \r\n",
        "    #сокращает числитель и знаменатель\r\n",
        "    z, n = abs(self.z), self.n\r\n",
        "    while z % n != 0:\r\n",
        "       z, n = n, z % n\r\n",
        "    self.z //= n\r\n",
        "    self.n //= n\r\n",
        "\r\n",
        "  def __add__(self, other):\r\n",
        "    numerator = self.z * other.n + other.z * self.n\r\n",
        "    if (numerator != 0):\r\n",
        "      return Rational(numerator, self.n * other.n)\r\n",
        "    else:\r\n",
        "      return 0\r\n",
        "\r\n",
        "  def __sub__(self, other):\r\n",
        "    numerator = self.z * other.n - other.z * self.n\r\n",
        "    if (numerator != 0):\r\n",
        "      return Rational(numerator, self.n * other.n)\r\n",
        "    else:\r\n",
        "      return 0\r\n",
        "\r\n",
        "  def __mul__(self, other):\r\n",
        "    return Rational(self.z * other.z, self.n * other.n)\r\n",
        "\r\n",
        "  def __truediv__(self, other):\r\n",
        "    return Rational(self.z * other.n, other.z * self.n)\r\n",
        "  \r\n",
        "  def __lt__(self, other):\r\n",
        "    return self.z * other.n < self.n * other.z\r\n",
        "\r\n",
        "  def __le__(self, other):\r\n",
        "    return self.z * other.n <= self.n * other.z\r\n",
        "\r\n",
        "  def __gt__(self, other):\r\n",
        "    return self.z * other.n > self.n * other.z\r\n",
        "\r\n",
        "  def __ge__(self, other):\r\n",
        "    return self.z * other.n >= self.n * other.z\r\n",
        "\r\n",
        "  def __eq__(self, other):\r\n",
        "    return self.z * other.n == self.n * other.z\r\n",
        "\r\n",
        "  def __ne__(self, other):\r\n",
        "    return self.z * other.n != self.n * other.z\r\n"
      ],
      "execution_count": 20,
      "outputs": []
    },
    {
      "cell_type": "code",
      "metadata": {
        "colab": {
          "base_uri": "https://localhost:8080/"
        },
        "id": "oKLeogMtH0ZP",
        "outputId": "43ea7d54-b565-4780-bdd0-fce9f1a788fc"
      },
      "source": [
        "a = Rational(1, 3)\r\n",
        "p = Rational(2, 7)\r\n",
        "\r\n",
        "print(a)\r\n",
        "print(p)\r\n",
        "print()\r\n",
        "\r\n",
        "#print(a+p)\r\n",
        "#print(a-p)\r\n",
        "#print(a*p)\r\n",
        "#print(a/p)\r\n",
        "print()\r\n",
        "\r\n",
        "print(a<p)\r\n",
        "print(a<=p)\r\n",
        "print(a>p)\r\n",
        "print(a>=p)\r\n",
        "print(a==p)\r\n",
        "print(a!=p)"
      ],
      "execution_count": 24,
      "outputs": [
        {
          "output_type": "stream",
          "text": [
            "1/3\n",
            "2/7\n",
            "\n",
            "\n",
            "False\n",
            "False\n",
            "True\n",
            "True\n",
            "False\n",
            "True\n"
          ],
          "name": "stdout"
        }
      ]
    }
  ]
}