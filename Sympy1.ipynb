{
  "nbformat": 4,
  "nbformat_minor": 0,
  "metadata": {
    "colab": {
      "name": "Sympy1.ipynb",
      "provenance": [],
      "collapsed_sections": [],
      "authorship_tag": "ABX9TyNN78vX4ZwLoo9O1VgRL6dt",
      "include_colab_link": true
    },
    "kernelspec": {
      "name": "python3",
      "display_name": "Python 3"
    },
    "language_info": {
      "name": "python"
    }
  },
  "cells": [
    {
      "cell_type": "markdown",
      "metadata": {
        "id": "view-in-github",
        "colab_type": "text"
      },
      "source": [
        "<a href=\"https://colab.research.google.com/github/CharlieW1799/ex2/blob/main/Sympy1.ipynb\" target=\"_parent\"><img src=\"https://colab.research.google.com/assets/colab-badge.svg\" alt=\"Open In Colab\"/></a>"
      ]
    },
    {
      "cell_type": "code",
      "metadata": {
        "id": "tnkZKgH_VEhd"
      },
      "source": [
        "from sympy import *\n",
        "x, n = symbols(\"x n\")\n",
        "y = Symbol(\"y\")"
      ],
      "execution_count": 38,
      "outputs": []
    },
    {
      "cell_type": "code",
      "metadata": {
        "id": "-n2D0HOEcNUC"
      },
      "source": [
        "##1"
      ],
      "execution_count": null,
      "outputs": []
    },
    {
      "cell_type": "code",
      "metadata": {
        "colab": {
          "base_uri": "https://localhost:8080/",
          "height": 51
        },
        "id": "6Bg_s17_VI5N",
        "outputId": "61bd4ff6-880d-48e3-e2ab-df5fe9f593c7"
      },
      "source": [
        "#1\n",
        "expr = (((9*x)**2)*x**(-8))/(x**(-15)*5*x**9)\n",
        "simplify(expr)"
      ],
      "execution_count": null,
      "outputs": [
        {
          "output_type": "execute_result",
          "data": {
            "text/latex": "$\\displaystyle \\frac{81}{5}$",
            "text/plain": [
              "81/5"
            ]
          },
          "metadata": {
            "tags": []
          },
          "execution_count": 5
        }
      ]
    },
    {
      "cell_type": "code",
      "metadata": {
        "colab": {
          "base_uri": "https://localhost:8080/",
          "height": 51
        },
        "id": "qDEQm_q9XOxM",
        "outputId": "6ebcfe68-b2ed-43ac-978b-bfb9ab1e5906"
      },
      "source": [
        "#2\n",
        "expr = ((3*x)**3*x**(-9))/(x**(-10)*2*x**4)\n",
        "simplify(expr)"
      ],
      "execution_count": null,
      "outputs": [
        {
          "output_type": "execute_result",
          "data": {
            "text/latex": "$\\displaystyle \\frac{27}{2}$",
            "text/plain": [
              "27/2"
            ]
          },
          "metadata": {
            "tags": []
          },
          "execution_count": 6
        }
      ]
    },
    {
      "cell_type": "code",
      "metadata": {
        "colab": {
          "base_uri": "https://localhost:8080/",
          "height": 37
        },
        "id": "CtqBUvTNYACY",
        "outputId": "f124d68a-f3ab-4299-b5c7-8e380c2f033c"
      },
      "source": [
        "#3\n",
        "expr = (18**n)/(3**(2*n-1)*2**(n-2))\n",
        "simplify(expr)"
      ],
      "execution_count": null,
      "outputs": [
        {
          "output_type": "execute_result",
          "data": {
            "text/latex": "$\\displaystyle 12$",
            "text/plain": [
              "12"
            ]
          },
          "metadata": {
            "tags": []
          },
          "execution_count": 7
        }
      ]
    },
    {
      "cell_type": "code",
      "metadata": {
        "colab": {
          "base_uri": "https://localhost:8080/",
          "height": 37
        },
        "id": "DNx7vz3ZaY_k",
        "outputId": "f20089d3-a76f-468f-8aa3-fa1a168757e2"
      },
      "source": [
        "#4\n",
        "expr = (36**n)/(3**(2*n-1)*4**(n-2))\n",
        "simplify(expr)"
      ],
      "execution_count": null,
      "outputs": [
        {
          "output_type": "execute_result",
          "data": {
            "text/latex": "$\\displaystyle 48$",
            "text/plain": [
              "48"
            ]
          },
          "metadata": {
            "tags": []
          },
          "execution_count": 8
        }
      ]
    },
    {
      "cell_type": "code",
      "metadata": {
        "colab": {
          "base_uri": "https://localhost:8080/",
          "height": 51
        },
        "id": "s3XBD6A0bBWv",
        "outputId": "e5643315-c542-45f7-fadf-94d274ca8e86"
      },
      "source": [
        "#5\n",
        "expr = (5**(n+1)-5**(n-1))/(2*5**n)\n",
        "simplify(expr)"
      ],
      "execution_count": null,
      "outputs": [
        {
          "output_type": "execute_result",
          "data": {
            "text/latex": "$\\displaystyle \\frac{12}{5}$",
            "text/plain": [
              "12/5"
            ]
          },
          "metadata": {
            "tags": []
          },
          "execution_count": 10
        }
      ]
    },
    {
      "cell_type": "code",
      "metadata": {
        "colab": {
          "base_uri": "https://localhost:8080/",
          "height": 37
        },
        "id": "GY9KbAIRbVb9",
        "outputId": "25c1e0ba-b8b6-468f-943a-9111de251cc4"
      },
      "source": [
        "#6\n",
        "expr = (10*2**n)/(2**(n+1)+2**(n-1))\n",
        "simplify(expr)"
      ],
      "execution_count": null,
      "outputs": [
        {
          "output_type": "execute_result",
          "data": {
            "text/latex": "$\\displaystyle 4$",
            "text/plain": [
              "4"
            ]
          },
          "metadata": {
            "tags": []
          },
          "execution_count": 11
        }
      ]
    },
    {
      "cell_type": "code",
      "metadata": {
        "id": "tHoRzKsEblFz"
      },
      "source": [
        "##2"
      ],
      "execution_count": null,
      "outputs": []
    },
    {
      "cell_type": "code",
      "metadata": {
        "colab": {
          "base_uri": "https://localhost:8080/"
        },
        "id": "jdPYWnHWcP3o",
        "outputId": "c57edbf8-b8c6-49d9-cb50-208c5440f5b1"
      },
      "source": [
        "#1\n",
        "expr = Eq((1/(x**2)) + (2/x) - 3, 0)\n",
        "solve(expr)"
      ],
      "execution_count": null,
      "outputs": [
        {
          "output_type": "execute_result",
          "data": {
            "text/plain": [
              "[-1/3, 1]"
            ]
          },
          "metadata": {
            "tags": []
          },
          "execution_count": 13
        }
      ]
    },
    {
      "cell_type": "code",
      "metadata": {
        "colab": {
          "base_uri": "https://localhost:8080/"
        },
        "id": "OFPspBYSdece",
        "outputId": "3b788f30-fe5c-42be-d0b4-346dae41e286"
      },
      "source": [
        "#2\n",
        "expr = Eq(1/(x**2) + 3/x, 10)\n",
        "solve(expr)"
      ],
      "execution_count": null,
      "outputs": [
        {
          "output_type": "execute_result",
          "data": {
            "text/plain": [
              "[-1/5, 1/2]"
            ]
          },
          "metadata": {
            "tags": []
          },
          "execution_count": 14
        }
      ]
    },
    {
      "cell_type": "code",
      "metadata": {
        "colab": {
          "base_uri": "https://localhost:8080/"
        },
        "id": "39fut2EkdueV",
        "outputId": "2ed2de15-97f4-4845-e245-bd8c0ef60811"
      },
      "source": [
        "#3\n",
        "expr = Eq(1/((x-2)**2)-1/(x-2)-6, 0)\n",
        "solve(expr)"
      ],
      "execution_count": null,
      "outputs": [
        {
          "output_type": "execute_result",
          "data": {
            "text/plain": [
              "[3/2, 7/3]"
            ]
          },
          "metadata": {
            "tags": []
          },
          "execution_count": 15
        }
      ]
    },
    {
      "cell_type": "code",
      "metadata": {
        "colab": {
          "base_uri": "https://localhost:8080/"
        },
        "id": "7tns8MfxeM2O",
        "outputId": "05ce29e4-a984-4410-8862-85fcb9ca4fbf"
      },
      "source": [
        "#4\n",
        "expr = Eq(1/((x-3)**2), 3/(x-3)+4)\n",
        "solve(expr)"
      ],
      "execution_count": null,
      "outputs": [
        {
          "output_type": "execute_result",
          "data": {
            "text/plain": [
              "[2, 13/4]"
            ]
          },
          "metadata": {
            "tags": []
          },
          "execution_count": 16
        }
      ]
    },
    {
      "cell_type": "code",
      "metadata": {
        "colab": {
          "base_uri": "https://localhost:8080/"
        },
        "id": "MJO45flMef88",
        "outputId": "8eb2fd86-3429-433d-c959-829b68125687"
      },
      "source": [
        "#5\n",
        "expr = Eq((x-2)*(x-3)*(x-4), (x-2)*(x-3)*(x-5))\n",
        "solve(expr)"
      ],
      "execution_count": null,
      "outputs": [
        {
          "output_type": "execute_result",
          "data": {
            "text/plain": [
              "[2, 3]"
            ]
          },
          "metadata": {
            "tags": []
          },
          "execution_count": 17
        }
      ]
    },
    {
      "cell_type": "code",
      "metadata": {
        "colab": {
          "base_uri": "https://localhost:8080/"
        },
        "id": "PPfJMKnYeyCT",
        "outputId": "3e612c99-b0b7-43ba-958f-5c45bc1512a8"
      },
      "source": [
        "#6\n",
        "expr = Eq((x+3)*(x+1)*(x-7), (x+3)*(x+1)*(x-8))\n",
        "solve(expr)"
      ],
      "execution_count": null,
      "outputs": [
        {
          "output_type": "execute_result",
          "data": {
            "text/plain": [
              "[-3, -1]"
            ]
          },
          "metadata": {
            "tags": []
          },
          "execution_count": 18
        }
      ]
    },
    {
      "cell_type": "code",
      "metadata": {
        "colab": {
          "base_uri": "https://localhost:8080/"
        },
        "id": "jnmZzueDfBjD",
        "outputId": "86599d3e-a27b-472e-f66b-2336eba15fe7"
      },
      "source": [
        "#7\n",
        "expr = Eq((x+5)**3, 25*(x+5))\n",
        "solve(expr)"
      ],
      "execution_count": null,
      "outputs": [
        {
          "output_type": "execute_result",
          "data": {
            "text/plain": [
              "[-10, -5, 0]"
            ]
          },
          "metadata": {
            "tags": []
          },
          "execution_count": 19
        }
      ]
    },
    {
      "cell_type": "code",
      "metadata": {
        "colab": {
          "base_uri": "https://localhost:8080/"
        },
        "id": "GS-eqWZhfSq8",
        "outputId": "5c3b6c67-3bdc-44f9-f6f5-ba68291da15b"
      },
      "source": [
        "#8\n",
        "expr = Eq((x+7)**3, 49*(x+7))\n",
        "solve(expr)"
      ],
      "execution_count": null,
      "outputs": [
        {
          "output_type": "execute_result",
          "data": {
            "text/plain": [
              "[-14, -7, 0]"
            ]
          },
          "metadata": {
            "tags": []
          },
          "execution_count": 20
        }
      ]
    },
    {
      "cell_type": "code",
      "metadata": {
        "id": "YgPp1SpifdHz"
      },
      "source": [
        "##3"
      ],
      "execution_count": null,
      "outputs": []
    },
    {
      "cell_type": "code",
      "metadata": {
        "colab": {
          "base_uri": "https://localhost:8080/",
          "height": 37
        },
        "id": "hBwk7fIwfeif",
        "outputId": "581a8a02-2c13-4a58-c0cd-a2445cf81db6"
      },
      "source": [
        "#1\n",
        "nonlinsolve([Eq(3*x+y, 5), Eq((x+2)/5+y/2, -1)], [x, y])"
      ],
      "execution_count": null,
      "outputs": [
        {
          "output_type": "execute_result",
          "data": {
            "text/latex": "$\\displaystyle \\left\\{\\left( 3, \\  -4\\right)\\right\\}$",
            "text/plain": [
              "FiniteSet((3, -4))"
            ]
          },
          "metadata": {
            "tags": []
          },
          "execution_count": 26
        }
      ]
    },
    {
      "cell_type": "code",
      "metadata": {
        "colab": {
          "base_uri": "https://localhost:8080/",
          "height": 37
        },
        "id": "QCWp-cN5gn62",
        "outputId": "ce17cf6f-a738-405c-834b-8876c73365de"
      },
      "source": [
        "#2\n",
        "nonlinsolve([Eq(x-y, 2), Eq(1/x-1/y,-2/3)], [x, y])"
      ],
      "execution_count": null,
      "outputs": [
        {
          "output_type": "execute_result",
          "data": {
            "text/latex": "$\\displaystyle \\left\\{\\left( -1.0, \\  -3.0\\right), \\left( 3.0, \\  1.0\\right)\\right\\}$",
            "text/plain": [
              "FiniteSet((-1.0, -3.0), (3.0, 1.0))"
            ]
          },
          "metadata": {
            "tags": []
          },
          "execution_count": 27
        }
      ]
    },
    {
      "cell_type": "code",
      "metadata": {
        "colab": {
          "base_uri": "https://localhost:8080/",
          "height": 37
        },
        "id": "6V36h-UDg52b",
        "outputId": "84d73165-5d17-4202-d669-244097d5bbaa"
      },
      "source": [
        "#3\n",
        "nonlinsolve([Eq(x/3-(y-2*x)/5, 4/3), Eq(y/2+5/6,(x+y)/3)], [x, y])"
      ],
      "execution_count": null,
      "outputs": [
        {
          "output_type": "execute_result",
          "data": {
            "text/latex": "$\\displaystyle \\left\\{\\left( 0.999999999999999, \\  -3.0\\right)\\right\\}$",
            "text/plain": [
              "FiniteSet((0.999999999999999, -3.0))"
            ]
          },
          "metadata": {
            "tags": []
          },
          "execution_count": 28
        }
      ]
    },
    {
      "cell_type": "code",
      "metadata": {
        "colab": {
          "base_uri": "https://localhost:8080/",
          "height": 37
        },
        "id": "RRIDAv0ohPVO",
        "outputId": "fcf54f4e-42c0-478b-870e-ef4dbf1b05b4"
      },
      "source": [
        "#4\n",
        "nonlinsolve([Eq((3*x)/4-(y-3*x)/2, -6), Eq((y-x)/3-1/6,y/2)], [x, y])"
      ],
      "execution_count": null,
      "outputs": [
        {
          "output_type": "execute_result",
          "data": {
            "text/latex": "$\\displaystyle \\left\\{\\left( -2.0, \\  3.0\\right)\\right\\}$",
            "text/plain": [
              "FiniteSet((-2.0, 3.0))"
            ]
          },
          "metadata": {
            "tags": []
          },
          "execution_count": 29
        }
      ]
    },
    {
      "cell_type": "code",
      "metadata": {
        "id": "D-M-PtwPhsHN"
      },
      "source": [
        "##4"
      ],
      "execution_count": null,
      "outputs": []
    },
    {
      "cell_type": "code",
      "metadata": {
        "colab": {
          "base_uri": "https://localhost:8080/",
          "height": 37
        },
        "id": "FZcbIzJLhuDm",
        "outputId": "93150292-18b3-46d0-b1ab-9c4b5e2981c0"
      },
      "source": [
        "#1\n",
        "solveset(Le((2*x-7)/6+(7*x-2)/3, 3-(1-x)/2), domain=S.Reals)"
      ],
      "execution_count": null,
      "outputs": [
        {
          "output_type": "execute_result",
          "data": {
            "text/latex": "$\\displaystyle \\left(-\\infty, 2\\right]$",
            "text/plain": [
              "Interval(-oo, 2)"
            ]
          },
          "metadata": {
            "tags": []
          },
          "execution_count": 33
        }
      ]
    },
    {
      "cell_type": "code",
      "metadata": {
        "id": "9tFh9yYeiweP",
        "colab": {
          "base_uri": "https://localhost:8080/",
          "height": 37
        },
        "outputId": "a11630b9-4213-47cb-c4ec-64c0d0875214"
      },
      "source": [
        "#2\n",
        "solveset(Ge((4*x+13)/10-(5+2*x)/4, (6-7*x)/20-1), domain=S.Reals)"
      ],
      "execution_count": 37,
      "outputs": [
        {
          "output_type": "execute_result",
          "data": {
            "text/latex": "$\\displaystyle \\left[-3, \\infty\\right)$",
            "text/plain": [
              "Interval(-3, oo)"
            ]
          },
          "metadata": {
            "tags": []
          },
          "execution_count": 37
        }
      ]
    },
    {
      "cell_type": "code",
      "metadata": {
        "id": "a9lGw7_GmK4B"
      },
      "source": [
        "##5"
      ],
      "execution_count": null,
      "outputs": []
    },
    {
      "cell_type": "code",
      "metadata": {
        "colab": {
          "base_uri": "https://localhost:8080/",
          "height": 58
        },
        "id": "uqV73ymTmMDu",
        "outputId": "1f82bf95-dbfe-48c5-aa5c-33db7ab81db6"
      },
      "source": [
        "#1\n",
        "n1 = Le(2*(x-3)-4*(3*x+7), 2+10*x)\n",
        "n2 = Le(3*x-10*(x+2), 3*(x-4))\n",
        "sol1 = solveset(n1, domain=S.Reals)\n",
        "sol2 = solveset(n2, domain=S.Reals)\n",
        "Intersection(sol1, sol2)"
      ],
      "execution_count": 39,
      "outputs": [
        {
          "output_type": "execute_result",
          "data": {
            "text/latex": "$\\displaystyle \\left[- \\frac{4}{5}, \\infty\\right)$",
            "text/plain": [
              "Interval(-4/5, oo)"
            ]
          },
          "metadata": {
            "tags": []
          },
          "execution_count": 39
        }
      ]
    },
    {
      "cell_type": "code",
      "metadata": {
        "colab": {
          "base_uri": "https://localhost:8080/",
          "height": 58
        },
        "id": "y73DRs2DnrU8",
        "outputId": "16225230-5420-4c43-8f74-792d1ab1dcb8"
      },
      "source": [
        "#2\n",
        "n1 = Ge(3*(2*x-5)-3*(4*x+3), 2*(2*x-1))\n",
        "n2 = Le(2*(13-5*x), 5*(3*x+8)-10*(3*x-1))\n",
        "sol1 = solveset(n1, domain=S.Reals)\n",
        "sol2 = solveset(n2, domain=S.Reals)\n",
        "Intersection(sol1, sol2)"
      ],
      "execution_count": 41,
      "outputs": [
        {
          "output_type": "execute_result",
          "data": {
            "text/latex": "$\\displaystyle \\left(-\\infty, - \\frac{11}{5}\\right]$",
            "text/plain": [
              "Interval(-oo, -11/5)"
            ]
          },
          "metadata": {
            "tags": []
          },
          "execution_count": 41
        }
      ]
    }
  ]
}