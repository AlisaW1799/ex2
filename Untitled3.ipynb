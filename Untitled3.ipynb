{
  "nbformat": 4,
  "nbformat_minor": 0,
  "metadata": {
    "colab": {
      "name": "Untitled3.ipynb",
      "provenance": [],
      "collapsed_sections": [],
      "authorship_tag": "ABX9TyNoALlp4S5Wk46usaNw90/3",
      "include_colab_link": true
    },
    "kernelspec": {
      "name": "python3",
      "display_name": "Python 3"
    },
    "language_info": {
      "name": "python"
    }
  },
  "cells": [
    {
      "cell_type": "markdown",
      "metadata": {
        "id": "view-in-github",
        "colab_type": "text"
      },
      "source": [
        "<a href=\"https://colab.research.google.com/github/CharlieW1799/ex2/blob/main/Untitled3.ipynb\" target=\"_parent\"><img src=\"https://colab.research.google.com/assets/colab-badge.svg\" alt=\"Open In Colab\"/></a>"
      ]
    },
    {
      "cell_type": "code",
      "metadata": {
        "colab": {
          "base_uri": "https://localhost:8080/",
          "height": 195
        },
        "id": "YkO6nTjRxASV",
        "outputId": "d9970280-59b3-4e54-d109-adfea1ac8a6f"
      },
      "source": [
        "from sympy import * \n",
        "from sympy.plotting import *\n",
        "t=Symbol(\"t\")\n",
        "x=Function(\"x\")\n",
        "y=Function(\"y\")\n",
        "z=Function(\"z\")\n",
        "de1=Eq(diff(x(t), t), -0.5*x(t))\n",
        "de1\n",
        "de2=Eq(diff(y(t), t), -0.5*y(t))\n",
        "de2\n",
        "de3=Eq(diff(z(t), t), 0.5*x(t)+0.5*y(t)-0.25*z(t))\n",
        "de3\n",
        "res=(dsolve([de1,de2,de3], ics={x(0):1, y(0):2, z(0):0}))\n",
        "res.diff(z).show()"
      ],
      "execution_count": null,
      "outputs": [
        {
          "output_type": "error",
          "ename": "AttributeError",
          "evalue": "ignored",
          "traceback": [
            "\u001b[0;31m---------------------------------------------------------------------------\u001b[0m",
            "\u001b[0;31mAttributeError\u001b[0m                            Traceback (most recent call last)",
            "\u001b[0;32m<ipython-input-1-3c13f5c12655>\u001b[0m in \u001b[0;36m<module>\u001b[0;34m()\u001b[0m\n\u001b[1;32m     12\u001b[0m \u001b[0mde3\u001b[0m\u001b[0;34m\u001b[0m\u001b[0;34m\u001b[0m\u001b[0m\n\u001b[1;32m     13\u001b[0m \u001b[0mres\u001b[0m\u001b[0;34m=\u001b[0m\u001b[0;34m(\u001b[0m\u001b[0mdsolve\u001b[0m\u001b[0;34m(\u001b[0m\u001b[0;34m[\u001b[0m\u001b[0mde1\u001b[0m\u001b[0;34m,\u001b[0m\u001b[0mde2\u001b[0m\u001b[0;34m,\u001b[0m\u001b[0mde3\u001b[0m\u001b[0;34m]\u001b[0m\u001b[0;34m,\u001b[0m \u001b[0mics\u001b[0m\u001b[0;34m=\u001b[0m\u001b[0;34m{\u001b[0m\u001b[0mx\u001b[0m\u001b[0;34m(\u001b[0m\u001b[0;36m0\u001b[0m\u001b[0;34m)\u001b[0m\u001b[0;34m:\u001b[0m\u001b[0;36m1\u001b[0m\u001b[0;34m,\u001b[0m \u001b[0my\u001b[0m\u001b[0;34m(\u001b[0m\u001b[0;36m0\u001b[0m\u001b[0;34m)\u001b[0m\u001b[0;34m:\u001b[0m\u001b[0;36m2\u001b[0m\u001b[0;34m,\u001b[0m \u001b[0mz\u001b[0m\u001b[0;34m(\u001b[0m\u001b[0;36m0\u001b[0m\u001b[0;34m)\u001b[0m\u001b[0;34m:\u001b[0m\u001b[0;36m0\u001b[0m\u001b[0;34m}\u001b[0m\u001b[0;34m)\u001b[0m\u001b[0;34m)\u001b[0m\u001b[0;34m\u001b[0m\u001b[0;34m\u001b[0m\u001b[0m\n\u001b[0;32m---> 14\u001b[0;31m \u001b[0mres\u001b[0m\u001b[0;34m.\u001b[0m\u001b[0mdiff\u001b[0m\u001b[0;34m(\u001b[0m\u001b[0mz\u001b[0m\u001b[0;34m)\u001b[0m\u001b[0;34m.\u001b[0m\u001b[0mshow\u001b[0m\u001b[0;34m(\u001b[0m\u001b[0;34m)\u001b[0m\u001b[0;34m\u001b[0m\u001b[0;34m\u001b[0m\u001b[0m\n\u001b[0m",
            "\u001b[0;31mAttributeError\u001b[0m: 'list' object has no attribute 'diff'"
          ]
        }
      ]
    },
    {
      "cell_type": "code",
      "metadata": {
        "colab": {
          "base_uri": "https://localhost:8080/"
        },
        "id": "oX8VroUg5qSK",
        "outputId": "e3fdc98b-2b7d-406a-b515-03ddec3a3984"
      },
      "source": [
        "from sympy import * \n",
        "from sympy.plotting import *\n",
        "t=Symbol(\"t\")\n",
        "x=Function(\"x\")\n",
        "y=Function(\"y\")\n",
        "z=Function(\"z\")\n",
        "de1=Eq(diff(x(t), t), -0.5*x(t))\n",
        "de1\n",
        "de2=Eq(diff(y(t), t), 0.5*x(t)-0.25*y(t))\n",
        "de2\n",
        "de3=Eq(diff(z(t), t), 0.25*y(t))\n",
        "de3\n",
        "res=(dsolve([de1,de2,de3], ics={x(0):2, y(0):1, z(0):0}))\n",
        "res\n"
      ],
      "execution_count": null,
      "outputs": [
        {
          "output_type": "execute_result",
          "data": {
            "text/plain": [
              "[Eq(x(t), 2.0*exp(-0.5*t)),\n",
              " Eq(y(t), -4.0*exp(-0.5*t) + 5.0*exp(-0.25*t)),\n",
              " Eq(z(t), 3.0 + 2.0*exp(-0.5*t) - 5.0*exp(-0.25*t))]"
            ]
          },
          "metadata": {
            "tags": []
          },
          "execution_count": 2
        }
      ]
    },
    {
      "cell_type": "code",
      "metadata": {
        "colab": {
          "base_uri": "https://localhost:8080/"
        },
        "id": "LSr7s6LM-c6-",
        "outputId": "4eb2265f-9920-48d7-fac9-7fe34404ce1b"
      },
      "source": [
        "solve(Eq(3.0 + 2.0*exp(-0.5*t) - 5.0*exp(-0.25*t),1.7))"
      ],
      "execution_count": null,
      "outputs": [
        {
          "output_type": "execute_result",
          "data": {
            "text/plain": [
              "[-3.16336109175401, 4.88649275612382]"
            ]
          },
          "metadata": {
            "tags": []
          },
          "execution_count": 4
        }
      ]
    },
    {
      "cell_type": "code",
      "metadata": {
        "id": "izG_8AFTBtkq"
      },
      "source": [
        ""
      ],
      "execution_count": null,
      "outputs": []
    },
    {
      "cell_type": "code",
      "metadata": {
        "id": "D30jrL6DDHxs"
      },
      "source": [
        ""
      ],
      "execution_count": null,
      "outputs": []
    },
    {
      "cell_type": "code",
      "metadata": {
        "id": "bXytKGVspMqv"
      },
      "source": [
        ""
      ],
      "execution_count": null,
      "outputs": []
    },
    {
      "cell_type": "code",
      "metadata": {
        "id": "NNHS7SzlCkqc",
        "colab": {
          "base_uri": "https://localhost:8080/"
        },
        "outputId": "32beb259-d2b8-46b1-8f2d-c7f09e242ea7"
      },
      "source": [
        "from sympy import * \n",
        "from sympy.plotting import *\n",
        "t=Symbol(\"t\")\n",
        "x=Function(\"x\")\n",
        "y=Function(\"y\")\n",
        "z=Function(\"z\")\n",
        "de1=Eq(diff(x(t), t), -0.5*x(t))\n",
        "de1\n",
        "de2=Eq(diff(y(t), t), 0.5*x(t)-0.25*y(t))\n",
        "de2\n",
        "de3=Eq(diff(z(t), t), 0.25*y(t))\n",
        "de3\n",
        "res=(dsolve([de1,de2,de3], ics={x(0):1, y(0):1, z(0):0}))\n",
        "res"
      ],
      "execution_count": null,
      "outputs": [
        {
          "output_type": "execute_result",
          "data": {
            "text/plain": [
              "[Eq(x(t), 1.0*exp(-0.5*t)),\n",
              " Eq(y(t), -2.0*exp(-0.5*t) + 3.0*exp(-0.25*t)),\n",
              " Eq(z(t), 2.0 + 1.0*exp(-0.5*t) - 3.0*exp(-0.25*t))]"
            ]
          },
          "metadata": {
            "tags": []
          },
          "execution_count": 7
        }
      ]
    },
    {
      "cell_type": "code",
      "metadata": {
        "id": "PpYql3XDq6Tq"
      },
      "source": [
        ""
      ],
      "execution_count": null,
      "outputs": []
    },
    {
      "cell_type": "code",
      "metadata": {
        "id": "4gSP2GNdq6KO"
      },
      "source": [
        "Большой воз(душный) шар"
      ],
      "execution_count": null,
      "outputs": []
    },
    {
      "cell_type": "code",
      "metadata": {
        "colab": {
          "base_uri": "https://localhost:8080/",
          "height": 38
        },
        "id": "fdD2DI-UJfoE",
        "outputId": "cb374de4-ce3e-4913-e76a-d7f64ca116df"
      },
      "source": [
        "P = 9.8\n",
        "m = 1\n",
        "g = 9.8\n",
        "k=0.01\n",
        "\n",
        "h = Function(\"h\")\n",
        "v = Function(\"v\")\n",
        "\n",
        "de1 = Eq(diff(v(t), t), P - g - k * v(t))\n",
        "de1\n",
        "de2 = Eq(diff(h(t), t), 1.0 * exp(-0.01 * t))\n",
        "de2\n",
        "resV = dsolve([de1], ics={v(0): 1})\n",
        "resV\n",
        "resH = dsolve([de2],ics={h(0): 1})\n",
        "resH\n",
        "\n",
        "a = resV[0]\n",
        "a\n",
        "answ = a.subs(t, 50)\n",
        "answ"
      ],
      "execution_count": null,
      "outputs": [
        {
          "output_type": "execute_result",
          "data": {
            "text/latex": "$\\displaystyle v{\\left(50 \\right)} = 0.606530659712633$",
            "text/plain": [
              "Eq(v(50), 0.606530659712633)"
            ]
          },
          "metadata": {
            "tags": []
          },
          "execution_count": 9
        }
      ]
    },
    {
      "cell_type": "code",
      "metadata": {
        "id": "jwYcBvRCqt5r",
        "colab": {
          "base_uri": "https://localhost:8080/",
          "height": 296
        },
        "outputId": "ddc36986-aa06-40f6-d68b-769b80d72c90"
      },
      "source": [
        "p1 = plot(resV[0].rhs, (t, 0, 1000), line_color='blue', show=False)\n",
        "p2 = plot(resH[0].rhs, (t, 0, 1000), line_color='red', show=False)\n",
        "p1.append(p2[0])\n",
        "p1.show()"
      ],
      "execution_count": null,
      "outputs": [
        {
          "output_type": "display_data",
          "data": {
            "image/png": "[encoded data removed]",
            "text/plain": [
              "<Figure size 432x288 with 1 Axes>"
            ]
          },
          "metadata": {
            "tags": [],
            "needs_background": "light"
          }
        }
      ]
    }
  ]
}