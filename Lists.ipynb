{
  "nbformat": 4,
  "nbformat_minor": 0,
  "metadata": {
    "colab": {
      "name": "Untitled2.ipynb",
      "provenance": [],
      "authorship_tag": "ABX9TyNPR/GW74uBYliwIr5eqtPB",
      "include_colab_link": true
    },
    "kernelspec": {
      "name": "python3",
      "display_name": "Python 3"
    }
  },
  "cells": [
    {
      "cell_type": "markdown",
      "metadata": {
        "id": "view-in-github",
        "colab_type": "text"
      },
      "source": [
        "<a href=\"https://colab.research.google.com/github/CharlieW1799/ex2/blob/main/Lists.ipynb\" target=\"_parent\"><img src=\"https://colab.research.google.com/assets/colab-badge.svg\" alt=\"Open In Colab\"/></a>"
      ]
    },
    {
      "cell_type": "code",
      "metadata": {
        "id": "r_Lku_H2RBSv"
      },
      "source": [
        "def add(x, y):\r\n",
        "  return ['+', x, y]\r\n",
        "\r\n",
        "def sub(x, y):\r\n",
        "  return [\"-\", x, y]\r\n",
        "\r\n",
        "def mul(x, y):\r\n",
        "  return ['*', x, y]\r\n",
        "\r\n",
        "def div(x, y):\r\n",
        "  return [\"/\", x, y]\r\n",
        "\r\n",
        "def pow(x, y):\r\n",
        "  return [\"^\", x, y]\r\n",
        "\r\n",
        "def fsqrt(x):\r\n",
        "  return ['sqrt', x]\r\n",
        "\r\n",
        "def fln(x):\r\n",
        "  return ['ln', x]\r\n",
        "\r\n",
        "def flg(x):\r\n",
        "  return ['lg', x]\r\n",
        "\r\n",
        "def fsin(x):\r\n",
        "  return ['sin', x]\r\n",
        "\r\n",
        "def fcos(x):\r\n",
        "  return ['cos', x]\r\n",
        "\r\n",
        "def ftan(x):\r\n",
        "  return ['tan', x]\r\n",
        "\r\n",
        "def farcsin(x):\r\n",
        "  return ['arcsin', x]\r\n",
        "\r\n",
        "def farccos(x):\r\n",
        "  return ['arccos', x]\r\n",
        "\r\n",
        "def farctan(x):\r\n",
        "  return ['cos', x]\r\n",
        "\r\n",
        "def fsh(x):\r\n",
        "  return ['sh', x]\r\n",
        "\r\n",
        "def fch(x):\r\n",
        "  return ['ch', x]\r\n",
        "\r\n",
        "def fth(x):\r\n",
        "  return ['th', x]"
      ],
      "execution_count": 4,
      "outputs": []
    },
    {
      "cell_type": "code",
      "metadata": {
        "id": "wYWq0kmUPVsL"
      },
      "source": [
        "def check(x):\r\n",
        "  if isinstance(x, Expression):\r\n",
        "    return x\r\n",
        "  return Expression(x)\r\n",
        "\r\n",
        "class Expression:\r\n",
        "  def __init__(self, f):\r\n",
        "    self.f = f\r\n",
        "\r\n",
        "  def __add__(self, x):\r\n",
        "    x = check(x)\r\n",
        "    return Expression(add(self.f, x.f))\r\n",
        "\r\n",
        "  def __sub__(self, x):\r\n",
        "    x = check(x)\r\n",
        "    return Expression(sub(self.f, x.f))\r\n",
        "\r\n",
        "  def __mul__(self, x):\r\n",
        "    x = check(x)\r\n",
        "    return Expression(mul(self.f, x.f))\r\n",
        "\r\n",
        "  def __pow__(self, x):\r\n",
        "    x = check(x)\r\n",
        "    return Expression(pow(self.f, x.f))\r\n",
        "\r\n",
        "  def __radd__(self, x):\r\n",
        "    x = check(x)\r\n",
        "    return Expression(add(x.f, self.f))\r\n",
        "\r\n",
        "  def __rsub__(self, x):\r\n",
        "    x = check(x)\r\n",
        "    return Expression(sub(x.f, self.f))\r\n",
        "\r\n",
        "  def __rmul__(self, x):\r\n",
        "    x = check(x)\r\n",
        "    return Expression(mul(x.f, self.f))\r\n",
        "\r\n",
        "  def __rtruediv__(self, x):\r\n",
        "    x = check(x)\r\n",
        "    return Expression(div(x.f, self.f))\r\n",
        "    \r\n",
        "  def __rpow__(self, x):\r\n",
        "    x = check(x)\r\n",
        "    return Expression(pow(x.f, self.f))\r\n",
        "\r\n",
        "  def subs(self, var, val):\r\n",
        "    return Expression(substitute(self.f, var, val))\r\n",
        "\r\n",
        "  def evalf(self):\r\n",
        "    return evaluate(self.f)\r\n"
      ],
      "execution_count": 19,
      "outputs": []
    },
    {
      "cell_type": "code",
      "metadata": {
        "id": "s3ejG8WrX5Iv"
      },
      "source": [
        "def sqrt(x):\r\n",
        "  x = check(x)\r\n",
        "  t = x.f\r\n",
        "  r = fsqrt(t)\r\n",
        "  return Expression(r)\r\n",
        "\r\n",
        "def ln(x):\r\n",
        "  return Expression(fln(check(x).f))\r\n",
        "\r\n",
        "def lg(x):\r\n",
        "  return Expression(flg(check(x).f))\r\n",
        "\r\n",
        "def sin(x):\r\n",
        "  return Expression(fsin(check(x).f))\r\n",
        "\r\n",
        "def cos(x):\r\n",
        "  return Expression(fcos(check(x).f))\r\n",
        "\r\n",
        "def tan(x):\r\n",
        "  return Expression(ftan(check(x).f))\r\n",
        "\r\n",
        "def arcsin(x):\r\n",
        "  return Expression(farcsin(check(x).f))\r\n",
        "\r\n",
        "def arccos(x):\r\n",
        "  return Expression(farccos(check(x).f))\r\n",
        "\r\n",
        "def arctan(x):\r\n",
        "  return Expression(farctan(check(x).f))\r\n",
        "\r\n",
        "def sh(x):\r\n",
        "  return Expression(fsh(check(x).f))\r\n",
        "\r\n",
        "def ch(x):\r\n",
        "  return Expression(fch(check(x).f))\r\n",
        "\r\n",
        "def th(x):\r\n",
        "  return Expression(fth(check(x).f))"
      ],
      "execution_count": 20,
      "outputs": []
    },
    {
      "cell_type": "code",
      "metadata": {
        "colab": {
          "base_uri": "https://localhost:8080/"
        },
        "id": "_lAaG26fVhiX",
        "outputId": "d6fd3e24-7944-4e1e-d182-29f9a9b41df6"
      },
      "source": [
        "x = Expression('x')\r\n",
        "y = Expression('y')\r\n",
        "z = x * ln(y)\r\n",
        "z.f"
      ],
      "execution_count": 23,
      "outputs": [
        {
          "output_type": "execute_result",
          "data": {
            "text/plain": [
              "['*', 'x', ['ln', 'y']]"
            ]
          },
          "metadata": {
            "tags": []
          },
          "execution_count": 23
        }
      ]
    }
  ]
}