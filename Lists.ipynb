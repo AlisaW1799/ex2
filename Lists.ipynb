{
  "nbformat": 4,
  "nbformat_minor": 0,
  "metadata": {
    "colab": {
      "name": "Untitled2.ipynb",
      "provenance": [],
      "authorship_tag": "ABX9TyPkjmaSIfZzv9iG2Ybf6aLR",
      "include_colab_link": true
    },
    "kernelspec": {
      "name": "python3",
      "display_name": "Python 3"
    }
  },
  "cells": [
    {
      "cell_type": "markdown",
      "metadata": {
        "id": "view-in-github",
        "colab_type": "text"
      },
      "source": [
        "<a href=\"https://colab.research.google.com/github/CharlieW1799/ex2/blob/main/Lists.ipynb\" target=\"_parent\"><img src=\"https://colab.research.google.com/assets/colab-badge.svg\" alt=\"Open In Colab\"/></a>"
      ]
    },
    {
      "cell_type": "code",
      "metadata": {
        "id": "wYWq0kmUPVsL"
      },
      "source": [
        "def check(x):\r\n",
        "  if isinstance(x, Expression):\r\n",
        "    return x\r\n",
        "  return Expression(x)\r\n",
        "\r\n",
        "class Expression:\r\n",
        "  def __init__(self, f):\r\n",
        "    self.f = f\r\n",
        "  def __add__(self, x):\r\n",
        "    x = check(x)\r\n",
        "    return Expression(add(self.f, x.f))\r\n",
        "  def __mul__(self, x):\r\n",
        "    x = check(x)\r\n",
        "    return Expression(mul(self.f, x.f))\r\n",
        "  def __radd__(self, x):\r\n",
        "    x = check(x)\r\n",
        "    return Expression(add(x.f, self.f))\r\n",
        "  def __rmul__(self, x):\r\n",
        "    x = check(x)\r\n",
        "    return Expression(mul(x.f, self.f))\r\n",
        "  def subs(self, var, val):\r\n",
        "    return Expression(substitute(self.f, var, val))\r\n",
        "  def evalf(self):\r\n",
        "    return evaluate(self.f)\r\n"
      ],
      "execution_count": 40,
      "outputs": []
    },
    {
      "cell_type": "code",
      "metadata": {
        "colab": {
          "base_uri": "https://localhost:8080/"
        },
        "id": "-Ax0N9nXRM88",
        "outputId": "376a1d26-8381-4695-a415-8a401decc521"
      },
      "source": [
        "#x = 'x'\r\n",
        "#y = 'y'\r\n",
        "\r\n",
        "#1  \r\n",
        "def add(x, y):\r\n",
        "  return ['+', x, y]\r\n",
        "\r\n",
        "def mul(x, y):\r\n",
        "  return ['*', x, y]\r\n",
        "\r\n"
      ],
      "execution_count": 29,
      "outputs": [
        {
          "output_type": "execute_result",
          "data": {
            "text/plain": [
              "['+', 'x', 2]"
            ]
          },
          "metadata": {
            "tags": []
          },
          "execution_count": 29
        }
      ]
    },
    {
      "cell_type": "code",
      "metadata": {
        "id": "C6M5W_IIV5hw"
      },
      "source": [
        "def fsin(x):\r\n",
        "  return ['sin', x]\r\n",
        "\r\n",
        "def fcos(x):\r\n",
        "  return ['cos', x]"
      ],
      "execution_count": null,
      "outputs": []
    },
    {
      "cell_type": "code",
      "metadata": {
        "colab": {
          "base_uri": "https://localhost:8080/"
        },
        "id": "_lAaG26fVhiX",
        "outputId": "8eb90fcf-90a2-4485-cfc2-816974a9940c"
      },
      "source": [
        "x = Expression('x')\r\n",
        "y = Expression('y')\r\n",
        "z = x + 2 * y\r\n",
        "z.f"
      ],
      "execution_count": 41,
      "outputs": [
        {
          "output_type": "execute_result",
          "data": {
            "text/plain": [
              "['+', 'x', ['*', 2, 'y']]"
            ]
          },
          "metadata": {
            "tags": []
          },
          "execution_count": 41
        }
      ]
    }
  ]
}