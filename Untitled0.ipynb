{
  "nbformat": 4,
  "nbformat_minor": 0,
  "metadata": {
    "colab": {
      "name": "Untitled0.ipynb",
      "provenance": [],
      "collapsed_sections": [],
      "authorship_tag": "ABX9TyNc0mOTswyktZivQ1dlT2AN",
      "include_colab_link": true
    },
    "kernelspec": {
      "name": "python3",
      "display_name": "Python 3"
    }
  },
  "cells": [
    {
      "cell_type": "markdown",
      "metadata": {
        "id": "view-in-github",
        "colab_type": "text"
      },
      "source": [
        "<a href=\"https://colab.research.google.com/github/CharlieW1799/ex2/blob/main/Untitled0.ipynb\" target=\"_parent\"><img src=\"https://colab.research.google.com/assets/colab-badge.svg\" alt=\"Open In Colab\"/></a>"
      ]
    },
    {
      "cell_type": "code",
      "metadata": {
        "id": "oXnmoFxO9r5x"
      },
      "source": [
        "class Rational:\r\n",
        "  def __init__(self, z, n = 1):\r\n",
        "    self.z = z\r\n",
        "    self.n = n\r\n",
        "    self.normalize()\r\n",
        "\r\n",
        "  def __str__(self):\r\n",
        "    return str(self.z)+\"/\"+str(self.n)\r\n",
        "\r\n",
        "  def normalize(self):\r\n",
        "    if (self.n<0):\r\n",
        "      self.z=-self.z\r\n",
        "      self.n=-self.n\r\n",
        "      \r\n",
        "    z, n = abs(self.z), self.n\r\n",
        "    while z % n != 0:\r\n",
        "       z, n = n, z % n\r\n",
        "    self.z //=n\r\n",
        "    self.n //=n\r\n"
      ],
      "execution_count": 58,
      "outputs": []
    },
    {
      "cell_type": "code",
      "metadata": {
        "colab": {
          "base_uri": "https://localhost:8080/"
        },
        "id": "oKLeogMtH0ZP",
        "outputId": "a916782b-4893-4ee0-9b8a-13844c5451d4"
      },
      "source": [
        "a = Rational(2, -4)\r\n",
        "p = Rational(1, 2)\r\n",
        "\r\n",
        "print(a)\r\n",
        "print(p)"
      ],
      "execution_count": 60,
      "outputs": [
        {
          "output_type": "stream",
          "text": [
            "-1/2\n",
            "1/2\n"
          ],
          "name": "stdout"
        }
      ]
    }
  ]
}