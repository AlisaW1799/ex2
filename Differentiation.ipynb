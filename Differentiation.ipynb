{
  "nbformat": 4,
  "nbformat_minor": 0,
  "metadata": {
    "colab": {
      "name": "Differentiation.ipynb",
      "provenance": [],
      "collapsed_sections": [],
      "authorship_tag": "ABX9TyOJO6j7+hYR6iU+DgmN6ddT",
      "include_colab_link": true
    },
    "kernelspec": {
      "name": "python3",
      "display_name": "Python 3"
    }
  },
  "cells": [
    {
      "cell_type": "markdown",
      "metadata": {
        "id": "view-in-github",
        "colab_type": "text"
      },
      "source": [
        "<a href=\"https://colab.research.google.com/github/CharlieW1799/ex2/blob/main/Differentiation.ipynb\" target=\"_parent\"><img src=\"https://colab.research.google.com/assets/colab-badge.svg\" alt=\"Open In Colab\"/></a>"
      ]
    },
    {
      "cell_type": "code",
      "metadata": {
        "id": "IpkDF74xECvd"
      },
      "source": [
        "from IPython.display import display, Math\r\n",
        "import math"
      ],
      "execution_count": null,
      "outputs": []
    },
    {
      "cell_type": "code",
      "metadata": {
        "id": "GJkNlBinFVCV"
      },
      "source": [
        "def add(x, y):\r\n",
        "  return ['+', x, y]\r\n",
        "\r\n",
        "def sub(x, y):\r\n",
        "  return [\"-\", x, y]\r\n",
        "\r\n",
        "def mul(x, y):\r\n",
        "  return ['*', x, y]\r\n",
        "\r\n",
        "def div(x, y):\r\n",
        "  return [\"/\", x, y]\r\n",
        "\r\n",
        "def pow(x, y):\r\n",
        "  return [\"^\", x, y]\r\n",
        "\r\n",
        "def fsqrt(x):\r\n",
        "  return ['sqrt', x]\r\n",
        "\r\n",
        "def fln(x):\r\n",
        "  return ['ln', x]\r\n",
        "\r\n",
        "def flg(x):\r\n",
        "  return ['lg', x]\r\n",
        "\r\n",
        "def fsin(x):\r\n",
        "  return ['sin', x]\r\n",
        "\r\n",
        "def fcos(x):\r\n",
        "  return ['cos', x]\r\n",
        "\r\n",
        "def ftan(x):\r\n",
        "  return ['tan', x]\r\n",
        "\r\n",
        "def farcsin(x):\r\n",
        "  return ['arcsin', x]\r\n",
        "\r\n",
        "def farccos(x):\r\n",
        "  return ['arccos', x]\r\n",
        "\r\n",
        "def farctan(x):\r\n",
        "  return ['cos', x]\r\n",
        "\r\n",
        "def fsh(x):\r\n",
        "  return ['sh', x]\r\n",
        "\r\n",
        "def fch(x):\r\n",
        "  return ['ch', x]\r\n",
        "\r\n",
        "def fth(x):\r\n",
        "  return ['th', x]\r\n",
        "\r\n",
        "def neg(x):\r\n",
        "  return [\"--\", x]"
      ],
      "execution_count": null,
      "outputs": []
    },
    {
      "cell_type": "code",
      "metadata": {
        "id": "uurZOarZFaWd"
      },
      "source": [
        "def check(x):\r\n",
        "  if isinstance(x, Expression):\r\n",
        "    return x\r\n",
        "  return Expression(x)\r\n",
        "\r\n",
        "class Expression:\r\n",
        "  def __init__(self, f):\r\n",
        "    self.f = f\r\n",
        "\r\n",
        "  def __add__(self, x):\r\n",
        "    x = check(x)\r\n",
        "    return Expression(add(self.f, x.f))\r\n",
        "\r\n",
        "  def __sub__(self, x):\r\n",
        "    x = check(x)\r\n",
        "    return Expression(sub(self.f, x.f))\r\n",
        "\r\n",
        "  def __mul__(self, x):\r\n",
        "    x = check(x)\r\n",
        "    return Expression(mul(self.f, x.f))\r\n",
        "\r\n",
        "  def __pow__(self, x):\r\n",
        "    x = check(x)\r\n",
        "    return Expression(pow(self.f, x.f))\r\n",
        "\r\n",
        "  def __radd__(self, x):\r\n",
        "    x = check(x)\r\n",
        "    return Expression(add(x.f, self.f))\r\n",
        "\r\n",
        "  def __rsub__(self, x):\r\n",
        "    x = check(x)\r\n",
        "    return Expression(sub(x.f, self.f))\r\n",
        "\r\n",
        "  def __rmul__(self, x):\r\n",
        "    x = check(x)\r\n",
        "    return Expression(mul(x.f, self.f))\r\n",
        "\r\n",
        "  def __rtruediv__(self, x):\r\n",
        "    x = check(x)\r\n",
        "    return Expression(div(x.f, self.f))\r\n",
        "    \r\n",
        "  def __rpow__(self, x):\r\n",
        "    x = check(x)\r\n",
        "    return Expression(pow(x.f, self.f))\r\n",
        "\r\n",
        "  def __neg__(self):\r\n",
        "    return Expression(neg(self.f))\r\n",
        "    \r\n",
        "  def evalf(self):\r\n",
        "    return evaluate(self.f)\r\n",
        "\r\n",
        "  def show(self):\r\n",
        "    display(Math(toLatex(self.f)))\r\n",
        "\r\n",
        "  def __str__(self):\r\n",
        "    return toLatex(self.f)\r\n",
        "\r\n",
        "  def diff(self, var):\r\n",
        "    var = check(var).f\r\n",
        "    return Expression(differentiate(self.f, var))"
      ],
      "execution_count": null,
      "outputs": []
    },
    {
      "cell_type": "code",
      "metadata": {
        "id": "DhCgutdGFg4Q"
      },
      "source": [
        "def sqrt(x):\r\n",
        "  x = check(x)\r\n",
        "  t = x.f\r\n",
        "  r = fsqrt(t)\r\n",
        "  return Expression(r)\r\n",
        "\r\n",
        "def ln(x):\r\n",
        "  return Expression(fln(check(x).f))\r\n",
        "\r\n",
        "def lg(x):\r\n",
        "  return Expression(flg(check(x).f))\r\n",
        "\r\n",
        "def sin(x):\r\n",
        "  return Expression(fsin(check(x).f))\r\n",
        "\r\n",
        "def cos(x):\r\n",
        "  return Expression(fcos(check(x).f))\r\n",
        "\r\n",
        "def tan(x):\r\n",
        "  return Expression(ftan(check(x).f))\r\n",
        "\r\n",
        "def arcsin(x):\r\n",
        "  return Expression(farcsin(check(x).f))\r\n",
        "\r\n",
        "def arccos(x):\r\n",
        "  return Expression(farccos(check(x).f))\r\n",
        "\r\n",
        "def arctan(x):\r\n",
        "  return Expression(farctan(check(x).f))\r\n",
        "\r\n",
        "def sh(x):\r\n",
        "  return Expression(fsh(check(x).f))\r\n",
        "\r\n",
        "def ch(x):\r\n",
        "  return Expression(fch(check(x).f))\r\n",
        "\r\n",
        "def th(x):\r\n",
        "  return Expression(fth(check(x).f))"
      ],
      "execution_count": null,
      "outputs": []
    },
    {
      "cell_type": "code",
      "metadata": {
        "id": "UcIXZodkFjGo"
      },
      "source": [
        "def evaluate(f):\r\n",
        "  if isinstance(f, (int, float)):\r\n",
        "    return f\r\n",
        "  elif isinstance(f, list):\r\n",
        "    if f[0] == \"+\": \r\n",
        "      return evaluate(f[1]) + evaluate(f[2])\r\n",
        "    elif f[0] == \"*\":\r\n",
        "      return evaluate(f[1]) * evaluate(f[2])\r\n",
        "    elif f[0] == \"sqrt\":\r\n",
        "      return math.sqrt(evaluate(f[1]))\r\n",
        "    elif f[0] == \"sin\":\r\n",
        "      return math.sin(evaluate(f[1]))\r\n",
        "    elif f[0] == \"cos\":\r\n",
        "      return math.cos(evaluate(f[1]))\r\n",
        "  return None"
      ],
      "execution_count": null,
      "outputs": []
    },
    {
      "cell_type": "code",
      "metadata": {
        "id": "tXjywGNBFnHQ"
      },
      "source": [
        "def toLatex(x):\r\n",
        "  if isinstance(x, (int, float)):\r\n",
        "    return str(x)\r\n",
        "  if isinstance(x, str):\r\n",
        "    return x\r\n",
        "  if isinstance(x, list):\r\n",
        "    if x[0] == \"+\":\r\n",
        "      return toLatex(x[1]) + \"+\" + toLatex(x[2])\r\n",
        "\r\n",
        "    if x[0] == \"-\":\r\n",
        "      return toLatex(x[1]) + \"-\" + toLatex(x[2])\r\n",
        "\r\n",
        "    if x[0] == \"*\":\r\n",
        "      left = toLatex(x[1])\r\n",
        "      if isinstance(x[1], list) and x[1][0] == \"+\":\r\n",
        "        left = \"\\\\left(\" + left + \"\\\\right)\"\r\n",
        "      right = toLatex(x[2])\r\n",
        "      if isinstance(x[2], list) and x[2][0] == \"+\":\r\n",
        "        right = \"\\\\left(\" + right + \"\\\\right)\"\r\n",
        "      return left + \"\\\\cdot \" + right\r\n",
        "\r\n",
        "    if x[0] == \"/\":\r\n",
        "      return \"\\\\dfrac{\" + toLatex(x[1]) + \"}{\" + toLatex(x[2]) + \"}\"\r\n",
        "\r\n",
        "    if x[0] == \"^\":\r\n",
        "      left = toLatex(x[1])\r\n",
        "      if isinstance(x[1], list):\r\n",
        "        left = \"\\\\left(\" + left + \"\\\\right)\"\r\n",
        "      right = toLatex(x[2])\r\n",
        "      return \"{\" + left + \"}^{\" + right + \"}\"\r\n",
        "    \r\n",
        "    if x[0] == \"sqrt\":\r\n",
        "      a = toLatex(x[1])\r\n",
        "      return \"\\\\sqrt{\" + a + \"}\"\r\n",
        "\r\n",
        "    if x[0] == \"ln\":\r\n",
        "      a = toLatex(x[1])\r\n",
        "      if isinstance(x[1], list):\r\n",
        "        a = \"\\\\left(\" + a + \"\\\\right)\"\r\n",
        "      return \"\\\\ln{\" + a + \"}\"\r\n",
        "\r\n",
        "    if x[0] == \"lg\":\r\n",
        "      a = toLatex(x[1])\r\n",
        "      if isinstance(x[1], list):\r\n",
        "        a = \"\\\\left(\" + a + \"\\\\right)\"\r\n",
        "      return \"\\\\lg{\" + a + \"}\"\r\n",
        "\r\n",
        "    if x[0] == \"sin\":\r\n",
        "      a = toLatex(x[1])\r\n",
        "      if isinstance(x[1], list):\r\n",
        "        a = \"\\\\left(\" + a + \"\\\\right)\"\r\n",
        "      return \"\\\\sin{\" + a + \"}\"\r\n",
        "\r\n",
        "    if x[0] == \"cos\":\r\n",
        "      a = toLatex(x[1])\r\n",
        "      if isinstance(x[1], list):\r\n",
        "        a = \"\\\\left(\" + a + \"\\\\right)\"\r\n",
        "      return \"\\\\cos{\" + a + \"}\"\r\n",
        "\r\n",
        "    if x[0] == \"tan\":\r\n",
        "      a = toLatex(x[1])\r\n",
        "      if isinstance(x[1], list):\r\n",
        "        a = \"\\\\left(\" + a + \"\\\\right)\"\r\n",
        "      return \"\\\\tan{\" + a + \"}\"\r\n",
        "\r\n",
        "    if x[0] == \"arcsin\":\r\n",
        "      a = toLatex(x[1])\r\n",
        "      if isinstance(x[1], list):\r\n",
        "        a = \"\\\\left(\" + a + \"\\\\right)\"\r\n",
        "      return \"\\\\arcsin{\" + a + \"}\"\r\n",
        "\r\n",
        "    if x[0] == \"arccos\":\r\n",
        "      a = toLatex(x[1])\r\n",
        "      if isinstance(x[1], list):\r\n",
        "        a = \"\\\\left(\" + a + \"\\\\right)\"\r\n",
        "      return \"\\\\arccos{\" + a + \"}\"\r\n",
        "\r\n",
        "    if x[0] == \"arctan\":\r\n",
        "      a = toLatex(x[1])\r\n",
        "      if isinstance(x[1], list):\r\n",
        "        a = \"\\\\left(\" + a + \"\\\\right)\"\r\n",
        "      return \"\\\\arctan{\" + a + \"}\"\r\n",
        "\r\n",
        "    if x[0] == \"sh\":\r\n",
        "      a = toLatex(x[1])\r\n",
        "      if isinstance(x[1], list):\r\n",
        "        a = \"\\\\left(\" + a + \"\\\\right)\"\r\n",
        "      return \"\\\\sh{\" + a + \"}\"\r\n",
        "\r\n",
        "    if x[0] == \"ch\":\r\n",
        "      a = toLatex(x[1])\r\n",
        "      if isinstance(x[1], list):\r\n",
        "        a = \"\\\\left(\" + a + \"\\\\right)\"\r\n",
        "      return \"\\\\ch{\" + a + \"}\"\r\n",
        "\r\n",
        "    if x[0] == \"th\":\r\n",
        "      a = toLatex(x[1])\r\n",
        "      if isinstance(x[1], list):\r\n",
        "        a = \"\\\\left(\" + a + \"\\\\right)\"\r\n",
        "      return \"\\\\th{\" + a + \"}\""
      ],
      "execution_count": null,
      "outputs": []
    },
    {
      "cell_type": "code",
      "metadata": {
        "id": "zFRGBJL4FsFJ"
      },
      "source": [
        "def differentiate(f, x):\r\n",
        "  if isinstance(f, int):\r\n",
        "    return 0\r\n",
        "  if f == x:\r\n",
        "    return 1\r\n",
        "  if isinstance(f, str):\r\n",
        "    return 0\r\n",
        "  if isinstance(f, list):\r\n",
        "    if f[0] == \"+\":\r\n",
        "      u, v = f[1], f[2]\r\n",
        "      u1, v1 = differentiate(u, x), differentiate(v, x)\r\n",
        "      return add(u1, v1)\r\n",
        "\r\n",
        "    if f[0] == \"-\":\r\n",
        "      u, v = f[1], f[2]\r\n",
        "      u1, v1 = differentiate(u, x), differentiate(v, x)\r\n",
        "      return sub(u1, v1)\r\n",
        "\r\n",
        "    if f[0] == \"*\":\r\n",
        "      u, v = f[1], f[2]\r\n",
        "      u1, v1 = differentiate(u, x), differentiate(v, x)\r\n",
        "      return add(mul(u1, v), mul(u, v1))\r\n",
        "\r\n",
        "    if f[0] == \"/\":\r\n",
        "      u, v = f[1], f[2]\r\n",
        "      u1, v1 = differentiate(u, x), differentiate(v, x)\r\n",
        "      return div(sub(mul(u1, v), mul(u, v1)), pow(v, 2))\r\n",
        "\r\n",
        "    if f[0] == \"^\":\r\n",
        "      u, v = f[1], f[2]\r\n",
        "      u1, v1 = differentiate(u, x), differentiate(v, x)\r\n",
        "      p1, p2 = pow(u, v), pow(u, sub(v, 1))\r\n",
        "      s1 = mul(p1, mul(v1, fln(u)))\r\n",
        "      s2 = mul(v, mul(p2, u1))\r\n",
        "      return add(s1, s2) \r\n",
        "\r\n",
        "    if f[0] == \"sqrt\":\r\n",
        "      u = f[1]\r\n",
        "      u1 = differentiate(u, x)\r\n",
        "      return div(u1, mul(2, fsqrt(u)))\r\n",
        "\r\n",
        "    if f[0] == \"ln\":\r\n",
        "      u = f[1]\r\n",
        "      u1 = differentiate(u, x)\r\n",
        "      return div(u1, u)\r\n",
        "      \r\n",
        "    if f[0] == \"lg\":\r\n",
        "      u = f[1]\r\n",
        "      u1 = differentiate(u, x)\r\n",
        "      return div(u1, flg(u))\r\n",
        "\r\n",
        "    if f[0] == \"sin\":\r\n",
        "      u = f[1]\r\n",
        "      u1 = differentiate(u, x)\r\n",
        "      return mul(fcos(u), u1)\r\n",
        "\r\n",
        "    if f[0] == \"cos\":\r\n",
        "      u = f[1]\r\n",
        "      u1 = differentiate(u, x)\r\n",
        "      return mul(neg(fsin(u)), u1)\r\n",
        "\r\n",
        "    if f[0] == \"tan\":\r\n",
        "      u = f[1]\r\n",
        "      u1 = differentiate(u, x)\r\n",
        "      return mul(u1, div(1, pow(fcos(u), 2)))\r\n",
        "\r\n",
        "    if f[0] == \"arcsin\":\r\n",
        "      u = f[1]\r\n",
        "      u1 = differentiate(u, x)\r\n",
        "      return div(u1, fsqrt(sub(1, pow(u, 2))))\r\n",
        "\r\n",
        "    if f[0] == \"arccos\":\r\n",
        "      u = f[1]\r\n",
        "      u1 = differentiate(u, x)\r\n",
        "      return div(neg(u1), fsqrt(sub(1, pow(u, 2))))\r\n",
        "\r\n",
        "    if f[0] == \"arctan\":\r\n",
        "      u = f[1]\r\n",
        "      u1 = differentiate(u, x)\r\n",
        "      return div(u1, fsqrt(add(1, pow(u, 2))))\r\n",
        "\r\n",
        "    if f[0] == \"sh\":\r\n",
        "      u = f[1]\r\n",
        "      u1 = differentiate(u, x)\r\n",
        "      return mul(u1, fch(u))\r\n",
        "\r\n",
        "    if f[0] == \"ch\":\r\n",
        "      u = f[1]\r\n",
        "      u1 = differentiate(u, x)\r\n",
        "      return mul(u1, fch(u))\r\n",
        "\r\n",
        "    if f[0] == \"th\":\r\n",
        "      u = f[1]\r\n",
        "      u1 = differentiate(u, x)\r\n",
        "      return div(u1, fch(pow(u, 2)))\r\n",
        "\r\n",
        "    if f[0] == \"--\":\r\n",
        "      u = f[1]\r\n",
        "      u1 = differentiate(u, x)\r\n",
        "      return neg(u1)"
      ],
      "execution_count": null,
      "outputs": []
    },
    {
      "cell_type": "code",
      "metadata": {
        "id": "p6_h4kRfZC6i"
      },
      "source": [
        "def symbols(vars):\r\n",
        "  return map(Expression, vars.split())\r\n",
        "\r\n",
        "x, y = symbols(\"x y\")  "
      ],
      "execution_count": null,
      "outputs": []
    },
    {
      "cell_type": "code",
      "metadata": {
        "colab": {
          "base_uri": "https://localhost:8080/",
          "height": 37
        },
        "id": "Av2iRDOaZEsC",
        "outputId": "0c60166a-c3ee-42c4-efd8-6d994d61130e"
      },
      "source": [
        "z = x + 1 - x\r\n",
        "z.diff(x).show()"
      ],
      "execution_count": null,
      "outputs": [
        {
          "output_type": "display_data",
          "data": {
            "text/latex": "$$1+0-1$$",
            "text/plain": [
              "<IPython.core.display.Math object>"
            ]
          },
          "metadata": {
            "tags": []
          }
        }
      ]
    },
    {
      "cell_type": "code",
      "metadata": {
        "colab": {
          "base_uri": "https://localhost:8080/",
          "height": 38
        },
        "id": "ePG77FPvYDdq",
        "outputId": "ada267c4-3cc5-4ac1-a94a-ba5ec9d46423"
      },
      "source": [
        "z = 2 * x\r\n",
        "z.diff(x).show()"
      ],
      "execution_count": null,
      "outputs": [
        {
          "output_type": "display_data",
          "data": {
            "text/latex": "$$0\\cdot x+2\\cdot 1$$",
            "text/plain": [
              "<IPython.core.display.Math object>"
            ]
          },
          "metadata": {
            "tags": []
          }
        }
      ]
    },
    {
      "cell_type": "code",
      "metadata": {
        "colab": {
          "base_uri": "https://localhost:8080/",
          "height": 51
        },
        "id": "UusbTwJYYLGh",
        "outputId": "90d608ab-b523-497c-9dcd-48de5b6012be"
      },
      "source": [
        "z = 2 / x\r\n",
        "z.diff(x).show()"
      ],
      "execution_count": null,
      "outputs": [
        {
          "output_type": "display_data",
          "data": {
            "text/latex": "$$\\dfrac{0\\cdot x-2\\cdot 1}{{x}^{2}}$$",
            "text/plain": [
              "<IPython.core.display.Math object>"
            ]
          },
          "metadata": {
            "tags": []
          }
        }
      ]
    },
    {
      "cell_type": "code",
      "metadata": {
        "colab": {
          "base_uri": "https://localhost:8080/",
          "height": 38
        },
        "id": "NQ7DpJxyZPJm",
        "outputId": "eb3df222-c66e-4fec-87ed-df7cb1806439"
      },
      "source": [
        "z = x ** 2\r\n",
        "z.diff(x).show()"
      ],
      "execution_count": null,
      "outputs": [
        {
          "output_type": "display_data",
          "data": {
            "text/latex": "$${x}^{2}\\cdot 0\\cdot \\ln{x}+2\\cdot {x}^{2-1}\\cdot 1$$",
            "text/plain": [
              "<IPython.core.display.Math object>"
            ]
          },
          "metadata": {
            "tags": []
          }
        }
      ]
    },
    {
      "cell_type": "code",
      "metadata": {
        "colab": {
          "base_uri": "https://localhost:8080/",
          "height": 39
        },
        "id": "P1HyXq8IZlSg",
        "outputId": "6450f784-dd21-4cff-b4f8-10adf0040979"
      },
      "source": [
        "z = (x + 1) ** x\r\n",
        "z.diff(x).show()"
      ],
      "execution_count": null,
      "outputs": [
        {
          "output_type": "display_data",
          "data": {
            "text/latex": "$${\\left(x+1\\right)}^{x}\\cdot 1\\cdot \\ln{\\left(x+1\\right)}+x\\cdot {\\left(x+1\\right)}^{x-1}\\cdot \\left(1+0\\right)$$",
            "text/plain": [
              "<IPython.core.display.Math object>"
            ]
          },
          "metadata": {
            "tags": []
          }
        }
      ]
    },
    {
      "cell_type": "code",
      "metadata": {
        "colab": {
          "base_uri": "https://localhost:8080/",
          "height": 55
        },
        "id": "ZAFGfsQ5aMX5",
        "outputId": "310ac1e0-a47e-4ec4-830c-774461d80a38"
      },
      "source": [
        "z = sqrt(x)\r\n",
        "z.diff(x).show()"
      ],
      "execution_count": null,
      "outputs": [
        {
          "output_type": "display_data",
          "data": {
            "text/latex": "$$\\dfrac{1}{2\\cdot \\sqrt{x}}$$",
            "text/plain": [
              "<IPython.core.display.Math object>"
            ]
          },
          "metadata": {
            "tags": []
          }
        }
      ]
    },
    {
      "cell_type": "code",
      "metadata": {
        "colab": {
          "base_uri": "https://localhost:8080/",
          "height": 53
        },
        "id": "NsSLLoCiZ8HI",
        "outputId": "066310c0-5e8b-41e0-9f3b-2cf75208d0e8"
      },
      "source": [
        "z = ln(x + 1)\r\n",
        "z.diff(x).show()"
      ],
      "execution_count": null,
      "outputs": [
        {
          "output_type": "display_data",
          "data": {
            "text/latex": "$$\\dfrac{1+0}{x+1}$$",
            "text/plain": [
              "<IPython.core.display.Math object>"
            ]
          },
          "metadata": {
            "tags": []
          }
        }
      ]
    },
    {
      "cell_type": "code",
      "metadata": {
        "colab": {
          "base_uri": "https://localhost:8080/",
          "height": 55
        },
        "id": "c5Qlu91Id0Lx",
        "outputId": "aa672d06-d24b-45d7-c74f-6ac1e3f51285"
      },
      "source": [
        "z = lg(x + 2)\r\n",
        "z.diff(x).show()"
      ],
      "execution_count": null,
      "outputs": [
        {
          "output_type": "display_data",
          "data": {
            "text/latex": "$$\\dfrac{1+0}{\\lg{\\left(x+2\\right)}}$$",
            "text/plain": [
              "<IPython.core.display.Math object>"
            ]
          },
          "metadata": {
            "tags": []
          }
        }
      ]
    },
    {
      "cell_type": "code",
      "metadata": {
        "colab": {
          "base_uri": "https://localhost:8080/",
          "height": 58
        },
        "id": "A7ZPl9D_dPaD",
        "outputId": "83e72162-e1ed-4f79-cacd-dc7320124470"
      },
      "source": [
        "z = tan(x)\r\n",
        "z.diff(x).show()"
      ],
      "execution_count": null,
      "outputs": [
        {
          "output_type": "display_data",
          "data": {
            "text/latex": "$$1\\cdot \\dfrac{1}{{\\left(\\cos{x}\\right)}^{2}}$$",
            "text/plain": [
              "<IPython.core.display.Math object>"
            ]
          },
          "metadata": {
            "tags": []
          }
        }
      ]
    }
  ]
}