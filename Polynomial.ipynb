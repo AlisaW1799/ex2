{
  "nbformat": 4,
  "nbformat_minor": 0,
  "metadata": {
    "colab": {
      "name": "Untitled1.ipynb",
      "provenance": [],
      "collapsed_sections": [],
      "authorship_tag": "ABX9TyOjphnYoxmbwJF9MduF8r9l",
      "include_colab_link": true
    },
    "kernelspec": {
      "name": "python3",
      "display_name": "Python 3"
    }
  },
  "cells": [
    {
      "cell_type": "markdown",
      "metadata": {
        "id": "view-in-github",
        "colab_type": "text"
      },
      "source": [
        "<a href=\"https://colab.research.google.com/github/CharlieW1799/ex2/blob/main/Polynomial.ipynb\" target=\"_parent\"><img src=\"https://colab.research.google.com/assets/colab-badge.svg\" alt=\"Open In Colab\"/></a>"
      ]
    },
    {
      "cell_type": "code",
      "metadata": {
        "id": "wFucdM-9GrOd",
        "colab": {
          "base_uri": "https://localhost:8080/",
          "height": 128
        },
        "outputId": "4af46cc1-ced8-4045-9d4b-6e4576aa8acf"
      },
      "source": [
        "from IPython.display import Latex, display, Math\r\n",
        "from itertools import zip_longest\r\n",
        "import matplotlib.pyplot as plt\r\n",
        "\r\n",
        "def check(x):\r\n",
        "  if isinstance(x, Polynomial):\r\n",
        "    return x\r\n",
        "  return Polynomial(x)\r\n",
        "\r\n",
        "class Polynomial:\r\n",
        "  def __init__(self, *coefs, num = 0):\r\n",
        "    self.coefs = list(coefs)\r\n",
        "    self.num = num\r\n",
        "\r\n",
        "  def __str__(self):\r\n",
        "    i = len(self.coefs) - 1\r\n",
        "    res = str(self.coefs[i]) + \"x^\" + str(i)\r\n",
        "    i -= 1\r\n",
        "    while i >= 0:\r\n",
        "      coef = self.coefs[i]\r\n",
        "      if coef < 0:\r\n",
        "        res += \" - \"\r\n",
        "        if coef != 1:\r\n",
        "          res += str(-coef)\r\n",
        "      if coef > 0:\r\n",
        "        res += \" + \"\r\n",
        "        if coef != 1:\r\n",
        "          res+= str(coef)\r\n",
        "      if coef == 0:\r\n",
        "        i -= 1\r\n",
        "        continue\r\n",
        "      if i == 1 or coef==1:\r\n",
        "        res += \"x\"\r\n",
        "      if i > 1:\r\n",
        "        res += \"x^\" + str(i)\r\n",
        "      i -= 1\r\n",
        "    return res\r\n",
        "\r\n",
        "  def __add__(self, other):\r\n",
        "    other = check(other)\r\n",
        "    num = []\r\n",
        "    for i in range(max(len(self.coefs), len(other.coefs))):\r\n",
        "      num = [a + b for (a, b) in zip_longest(self.coefs, other.coefs, fillvalue=0)]\r\n",
        "    return Polynomial(*num)\r\n",
        "\r\n",
        "  def __sub__(self, other):\r\n",
        "    other = check(other)\r\n",
        "    num = []\r\n",
        "    for i in range(max(len(self.coefs), len(other.coefs))):\r\n",
        "      num = [a - b for (a, b) in zip_longest(self.coefs, other.coefs, fillvalue=0)]\r\n",
        "    return Polynomial(*num)\r\n",
        "\r\n",
        "  #def __mul__(self, other):\r\n",
        "    #other = check(other)\r\n",
        "    #num = []\r\n",
        "    #for i in range(len(self.coefs)):\r\n",
        "      #for j in range(len(other.coefs)):\r\n",
        "        #num = [a*b for (a,b) in self.coefs]\r\n",
        "    #return Polynomial(*num)\r\n",
        "\r\n",
        "  def evalf(self, x):\r\n",
        "    i = len(self.coefs) - 1\r\n",
        "    num = 0\r\n",
        "    while i >= 0:\r\n",
        "      coef = self.coefs[i]\r\n",
        "      num += coef * x**i\r\n",
        "      i -= 1\r\n",
        "    return num\r\n",
        "\r\n",
        "  def toLatex(self):\r\n",
        "    i = len(self.coefs) - 1\r\n",
        "    res = \"\"\r\n",
        "    while i >= 0:\r\n",
        "      coef = self.coefs[i]\r\n",
        "      if coef < 0:\r\n",
        "        res += \" - \"\r\n",
        "        if coef != 1:\r\n",
        "          res += str(-coef)\r\n",
        "      if coef > 0:\r\n",
        "        res += \" + \"\r\n",
        "        if coef != 1:\r\n",
        "          res+= str(coef)\r\n",
        "      if coef == 0:\r\n",
        "        i -= 1\r\n",
        "        continue\r\n",
        "      if i == 1 or coef == 1:\r\n",
        "        res += \"x\"\r\n",
        "      if i > 1:\r\n",
        "        res += \"x^\" + str(i)\r\n",
        "      i -= 1\r\n",
        "    return res\r\n",
        "\r\n",
        "  def show(self):\r\n",
        "    display(Math(self.toLatex()))\r\n",
        "\r\n",
        "  def diff(self):\r\n",
        "    num = []\r\n",
        "    for i in range(1, len(self.coefs)):\r\n",
        "      if i != 1:\r\n",
        "        num.append(i * self.coefs[i])\r\n",
        "      else:\r\n",
        "        num.append(self.coefs[i])\r\n",
        "    return Polynomial(*num)\r\n",
        "\r\n",
        "  def grafDrac(expr, a, b, n):\r\n",
        "    dx= (b - a) / n\r\n",
        "    X, Y = [], []\r\n",
        "    for i in range(n + 1):\r\n",
        "      x = a + dx * i\r\n",
        "      y = expr.evalf(x)\r\n",
        "      X.append(x)\r\n",
        "      Y.append(y)\r\n",
        "\r\n",
        "    fig, ax = plt.subplots(figsize=(12, 9))\r\n",
        "    ax.plot(X, Y, color=\"red\", lw=5)\r\n",
        "    plt.show()"
      ],
      "execution_count": 146,
      "outputs": [
        {
          "output_type": "error",
          "ename": "SyntaxError",
          "evalue": "ignored",
          "traceback": [
            "\u001b[0;36m  File \u001b[0;32m\"<ipython-input-146-fd651c0c26fd>\"\u001b[0;36m, line \u001b[0;32m58\u001b[0m\n\u001b[0;31m    num = [a*b, i+j for (a,b) in self.coefs]\u001b[0m\n\u001b[0m                      ^\u001b[0m\n\u001b[0;31mSyntaxError\u001b[0m\u001b[0;31m:\u001b[0m invalid syntax\n"
          ]
        }
      ]
    },
    {
      "cell_type": "code",
      "metadata": {
        "id": "C8tk92sQ-rL9",
        "colab": {
          "base_uri": "https://localhost:8080/",
          "height": 1000
        },
        "outputId": "a8012647-4aea-4d67-da1d-50a867452623"
      },
      "source": [
        "a = Polynomial(2, 1, 0, 2)\r\n",
        "b = Polynomial(-4, 2, -3)\r\n",
        "\r\n",
        "print(\"\\nЗадание 3\")\r\n",
        "print(\"a =\", a)\r\n",
        "print(\"b =\", b)\r\n",
        "\r\n",
        "print(\"\\nЗадание 4\")\r\n",
        "print(\"a + b =\", a + b)\r\n",
        "print(\"a - b =\", a - b)\r\n",
        "print(a*b)\r\n",
        "\r\n",
        "print(\"\\nЗадание 9\")\r\n",
        "print(\"a в точке x = 2:\", a.evalf(2))\r\n",
        "print(\"b в точке x = 3:\", b.evalf(3))\r\n",
        "\r\n",
        "print(\"\\nЗадание 10-11\")\r\n",
        "#print(b.toLatex())\r\n",
        "print(b.show())\r\n",
        "\r\n",
        "print(\"\\nЗадание 12\")\r\n",
        "print(\"b' =\", b.diff())\r\n",
        "\r\n",
        "print(\"\\nЗадание 13\")\r\n",
        "a.grafDrac(-20,20,500)\r\n",
        "b.grafDrac(-5,5,500)"
      ],
      "execution_count": 145,
      "outputs": [
        {
          "output_type": "stream",
          "text": [
            "\n",
            "Задание 3\n",
            "a = 2x^3 + x + 2\n",
            "b = -3x^2 + 2x - 4\n",
            "\n",
            "Задание 4\n",
            "a + b = 2x^3 - 3x^2 + 3x - 2\n",
            "a - b = 2x^3 + 3x^2 - 1x + 6\n",
            "0x^3 + 2x - 8\n",
            "\n",
            "Задание 9\n",
            "a в точке x = 2: 20\n",
            "b в точке x = 3: -25\n",
            "\n",
            "Задание 10-11\n"
          ],
          "name": "stdout"
        },
        {
          "output_type": "display_data",
          "data": {
            "text/latex": "$$ - 3x^2 + 2x - 4$$",
            "text/plain": [
              "<IPython.core.display.Math object>"
            ]
          },
          "metadata": {
            "tags": []
          }
        },
        {
          "output_type": "stream",
          "text": [
            "None\n",
            "\n",
            "Задание 12\n",
            "b' = -6x^1 + 2\n",
            "\n",
            "Задание 13\n"
          ],
          "name": "stdout"
        },
        {
          "output_type": "display_data",
          "data": {
            "image/png": "[encoded data removed]",
            "text/plain": [
              "<Figure size 864x648 with 1 Axes>"
            ]
          },
          "metadata": {
            "tags": [],
            "needs_background": "light"
          }
        },
        {
          "output_type": "display_data",
          "data": {
            "image/png": "[encoded data removed]",
            "text/plain": [
              "<Figure size 864x648 with 1 Axes>"
            ]
          },
          "metadata": {
            "tags": [],
            "needs_background": "light"
          }
        }
      ]
    }
  ]
}